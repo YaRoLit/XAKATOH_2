{
 "cells": [
  {
   "cell_type": "markdown",
   "metadata": {},
   "source": [
    "# Импорты (нужно установить эти библиотеки)"
   ]
  },
  {
   "cell_type": "code",
   "execution_count": 1,
   "metadata": {},
   "outputs": [],
   "source": [
    "import requests\n",
    "import json"
   ]
  },
  {
   "cell_type": "markdown",
   "metadata": {},
   "source": [
    "# Тестовый фрейм (одна строка, которая передается как post request)"
   ]
  },
  {
   "cell_type": "code",
   "execution_count": 23,
   "metadata": {},
   "outputs": [],
   "source": [
    "test_request = {\n",
    "    'BirthDate':            '1976-06-18',\n",
    "    'education':            'Высшее - специалист',\n",
    "    'employment_status':    'Собственное дело',\n",
    "    'Value':                '10 и более лет',\n",
    "    'JobStartDate':         '2012-10-01',\n",
    "    'Position':             'САМОЗАНЯТАЯ',\n",
    "    'MonthProfit':          '150000.0',\n",
    "    'MonthExpense':         '22500.0', \n",
    "    'Gender':               'sdfas', #'0',\n",
    "    'Family_status':        'Никогда в браке не состоял(а)',\n",
    "    'ChildCount':           '0',\n",
    "    'SNILS':                '0',\n",
    "    'Merch_code':           '15',\n",
    "    'Loan_amount':          '48000.0',\n",
    "    'Loan_term':            '6',\n",
    "    'Goods_category':       'Medical_services'\n",
    "}"
   ]
  },
  {
   "cell_type": "markdown",
   "metadata": {},
   "source": [
    "# Образец Get и Post запроса"
   ]
  },
  {
   "cell_type": "code",
   "execution_count": 30,
   "metadata": {},
   "outputs": [
    {
     "name": "stdout",
     "output_type": "stream",
     "text": [
      "200 OK\n"
     ]
    }
   ],
   "source": [
    "r = requests.get('http://127.0.0.1:5000/')\n",
    "print(r.status_code, r.reason)"
   ]
  },
  {
   "cell_type": "code",
   "execution_count": 40,
   "metadata": {},
   "outputs": [
    {
     "name": "stdout",
     "output_type": "stream",
     "text": [
      "200 OK\n"
     ]
    }
   ],
   "source": [
    "json_data = json.dumps(test_request).encode('utf8')\n",
    "r = requests.post(\n",
    "    'http://127.0.0.1:5000/AskOraqul/', data=json_data)\n",
    "print(r.status_code, r.reason)"
   ]
  }
 ],
 "metadata": {
  "kernelspec": {
   "display_name": "Python 3",
   "language": "python",
   "name": "python3"
  },
  "language_info": {
   "codemirror_mode": {
    "name": "ipython",
    "version": 3
   },
   "file_extension": ".py",
   "mimetype": "text/x-python",
   "name": "python",
   "nbconvert_exporter": "python",
   "pygments_lexer": "ipython3",
   "version": "3.12.0"
  }
 },
 "nbformat": 4,
 "nbformat_minor": 2
}
