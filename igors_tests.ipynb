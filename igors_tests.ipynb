{
  "cells": [
    {
      "cell_type": "markdown",
      "metadata": {},
      "source": [
        "# Очистка признаков и тренировка пробных моделей\n",
        "В качестве основы взят блокнот: [link](https://colab.research.google.com/drive/12-3FFYrJVH2xtzH1W_OVbwp0Yw89wfa1?usp=sharing)"
      ]
    },
    {
      "cell_type": "markdown",
      "metadata": {
        "id": "47pVZEzCD-O_"
      },
      "source": [
        "## Импорты"
      ]
    },
    {
      "cell_type": "code",
      "execution_count": 1,
      "metadata": {
        "colab": {
          "base_uri": "https://localhost:8080/"
        },
        "id": "soysK04C3Zn1",
        "outputId": "6b4d7536-d7b1-4c81-d2e3-b3b30205ed84"
      },
      "outputs": [],
      "source": [
        "# !pip install catboost"
      ]
    },
    {
      "cell_type": "code",
      "execution_count": 2,
      "metadata": {
        "id": "BzN_NVAED-PA"
      },
      "outputs": [],
      "source": [
        "import pandas as pd\n",
        "import numpy as np\n",
        "\n",
        "import sys \n",
        "import os\n",
        "sys.path.append(os.path.abspath(\"Data_preproc\"))\n",
        "from pos_prepr_by_Igor import *"
      ]
    },
    {
      "cell_type": "markdown",
      "metadata": {
        "id": "jvCcNpiDD-PB"
      },
      "source": [
        "## Загрузка датасета"
      ]
    },
    {
      "cell_type": "code",
      "execution_count": 3,
      "metadata": {
        "id": "AeZQNs0qD-PC"
      },
      "outputs": [],
      "source": [
        "df = load_data()"
      ]
    },
    {
      "cell_type": "code",
      "execution_count": 4,
      "metadata": {
        "colab": {
          "base_uri": "https://localhost:8080/",
          "height": 616
        },
        "id": "97MShfm3D-PD",
        "outputId": "513d45d9-e831-4486-b088-335b7d8d04e0"
      },
      "outputs": [
        {
          "data": {
            "text/html": [
              "<div>\n",
              "<style scoped>\n",
              "    .dataframe tbody tr th:only-of-type {\n",
              "        vertical-align: middle;\n",
              "    }\n",
              "\n",
              "    .dataframe tbody tr th {\n",
              "        vertical-align: top;\n",
              "    }\n",
              "\n",
              "    .dataframe thead th {\n",
              "        text-align: right;\n",
              "    }\n",
              "</style>\n",
              "<table border=\"1\" class=\"dataframe\">\n",
              "  <thead>\n",
              "    <tr style=\"text-align: right;\">\n",
              "      <th></th>\n",
              "      <th>BirthDate</th>\n",
              "      <th>education</th>\n",
              "      <th>employment status</th>\n",
              "      <th>Value</th>\n",
              "      <th>JobStartDate</th>\n",
              "      <th>Position</th>\n",
              "      <th>MonthProfit</th>\n",
              "      <th>MonthExpense</th>\n",
              "      <th>Gender</th>\n",
              "      <th>Family status</th>\n",
              "      <th>...</th>\n",
              "      <th>SNILS</th>\n",
              "      <th>BankA_decision</th>\n",
              "      <th>BankB_decision</th>\n",
              "      <th>BankC_decision</th>\n",
              "      <th>BankD_decision</th>\n",
              "      <th>BankE_decision</th>\n",
              "      <th>Merch_code</th>\n",
              "      <th>Loan_amount</th>\n",
              "      <th>Loan_term</th>\n",
              "      <th>Goods_category</th>\n",
              "    </tr>\n",
              "    <tr>\n",
              "      <th>SkillFactory_Id</th>\n",
              "      <th></th>\n",
              "      <th></th>\n",
              "      <th></th>\n",
              "      <th></th>\n",
              "      <th></th>\n",
              "      <th></th>\n",
              "      <th></th>\n",
              "      <th></th>\n",
              "      <th></th>\n",
              "      <th></th>\n",
              "      <th></th>\n",
              "      <th></th>\n",
              "      <th></th>\n",
              "      <th></th>\n",
              "      <th></th>\n",
              "      <th></th>\n",
              "      <th></th>\n",
              "      <th></th>\n",
              "      <th></th>\n",
              "      <th></th>\n",
              "      <th></th>\n",
              "    </tr>\n",
              "  </thead>\n",
              "  <tbody>\n",
              "    <tr>\n",
              "      <th>1.0</th>\n",
              "      <td>1988-07-21</td>\n",
              "      <td>Высшее - специалист</td>\n",
              "      <td>Работаю по найму полный рабочий день/служу</td>\n",
              "      <td>9 - 10 лет</td>\n",
              "      <td>2013-09-01</td>\n",
              "      <td>начальник п</td>\n",
              "      <td>180000.0</td>\n",
              "      <td>90000.0</td>\n",
              "      <td>0.0</td>\n",
              "      <td>Никогда в браке не состоял(а)</td>\n",
              "      <td>...</td>\n",
              "      <td>0.0</td>\n",
              "      <td>success</td>\n",
              "      <td>success</td>\n",
              "      <td>success</td>\n",
              "      <td>success</td>\n",
              "      <td>denied</td>\n",
              "      <td>77.0</td>\n",
              "      <td>137000.0</td>\n",
              "      <td>18.0</td>\n",
              "      <td>Furniture</td>\n",
              "    </tr>\n",
              "    <tr>\n",
              "      <th>2.0</th>\n",
              "      <td>1998-01-16</td>\n",
              "      <td>Высшее - специалист</td>\n",
              "      <td>Собственное дело</td>\n",
              "      <td>1 - 2 года</td>\n",
              "      <td>2022-12-01</td>\n",
              "      <td>директор</td>\n",
              "      <td>200000.0</td>\n",
              "      <td>60000.0</td>\n",
              "      <td>0.0</td>\n",
              "      <td>Никогда в браке не состоял(а)</td>\n",
              "      <td>...</td>\n",
              "      <td>0.0</td>\n",
              "      <td>success</td>\n",
              "      <td>denied</td>\n",
              "      <td>success</td>\n",
              "      <td>denied</td>\n",
              "      <td>success</td>\n",
              "      <td>27.0</td>\n",
              "      <td>33000.0</td>\n",
              "      <td>6.0</td>\n",
              "      <td>Fitness</td>\n",
              "    </tr>\n",
              "    <tr>\n",
              "      <th>3.0</th>\n",
              "      <td>1972-10-02</td>\n",
              "      <td>Высшее - специалист</td>\n",
              "      <td>Работаю по найму полный рабочий день/служу</td>\n",
              "      <td>10 и более лет</td>\n",
              "      <td>2005-12-01</td>\n",
              "      <td>ДИРЕКТОР</td>\n",
              "      <td>300000.0</td>\n",
              "      <td>45000.0</td>\n",
              "      <td>1.0</td>\n",
              "      <td>Никогда в браке не состоял(а)</td>\n",
              "      <td>...</td>\n",
              "      <td>0.0</td>\n",
              "      <td>denied</td>\n",
              "      <td>denied</td>\n",
              "      <td>success</td>\n",
              "      <td>success</td>\n",
              "      <td>success</td>\n",
              "      <td>19.0</td>\n",
              "      <td>165000.0</td>\n",
              "      <td>24.0</td>\n",
              "      <td>Medical_services</td>\n",
              "    </tr>\n",
              "    <tr>\n",
              "      <th>4.0</th>\n",
              "      <td>1972-10-02</td>\n",
              "      <td>Высшее - специалист</td>\n",
              "      <td>Работаю по найму полный рабочий день/служу</td>\n",
              "      <td>10 и более лет</td>\n",
              "      <td>2005-12-01</td>\n",
              "      <td>ДИРЕКТОР</td>\n",
              "      <td>300000.0</td>\n",
              "      <td>45000.0</td>\n",
              "      <td>1.0</td>\n",
              "      <td>Никогда в браке не состоял(а)</td>\n",
              "      <td>...</td>\n",
              "      <td>0.0</td>\n",
              "      <td>success</td>\n",
              "      <td>denied</td>\n",
              "      <td>success</td>\n",
              "      <td>success</td>\n",
              "      <td>success</td>\n",
              "      <td>34.0</td>\n",
              "      <td>67000.0</td>\n",
              "      <td>12.0</td>\n",
              "      <td>Education</td>\n",
              "    </tr>\n",
              "    <tr>\n",
              "      <th>5.0</th>\n",
              "      <td>1972-10-02</td>\n",
              "      <td>Высшее - специалист</td>\n",
              "      <td>Работаю по найму полный рабочий день/служу</td>\n",
              "      <td>10 и более лет</td>\n",
              "      <td>2005-12-01</td>\n",
              "      <td>ДИРЕКТОР</td>\n",
              "      <td>300000.0</td>\n",
              "      <td>45000.0</td>\n",
              "      <td>1.0</td>\n",
              "      <td>Никогда в браке не состоял(а)</td>\n",
              "      <td>...</td>\n",
              "      <td>0.0</td>\n",
              "      <td>success</td>\n",
              "      <td>denied</td>\n",
              "      <td>success</td>\n",
              "      <td>success</td>\n",
              "      <td>success</td>\n",
              "      <td>75.0</td>\n",
              "      <td>36000.0</td>\n",
              "      <td>6.0</td>\n",
              "      <td>Furniture</td>\n",
              "    </tr>\n",
              "  </tbody>\n",
              "</table>\n",
              "<p>5 rows × 21 columns</p>\n",
              "</div>"
            ],
            "text/plain": [
              "                 BirthDate            education  \\\n",
              "SkillFactory_Id                                   \n",
              "1.0             1988-07-21  Высшее - специалист   \n",
              "2.0             1998-01-16  Высшее - специалист   \n",
              "3.0             1972-10-02  Высшее - специалист   \n",
              "4.0             1972-10-02  Высшее - специалист   \n",
              "5.0             1972-10-02  Высшее - специалист   \n",
              "\n",
              "                                          employment status           Value  \\\n",
              "SkillFactory_Id                                                               \n",
              "1.0              Работаю по найму полный рабочий день/служу      9 - 10 лет   \n",
              "2.0                                        Собственное дело      1 - 2 года   \n",
              "3.0              Работаю по найму полный рабочий день/служу  10 и более лет   \n",
              "4.0              Работаю по найму полный рабочий день/служу  10 и более лет   \n",
              "5.0              Работаю по найму полный рабочий день/служу  10 и более лет   \n",
              "\n",
              "                JobStartDate     Position  MonthProfit  MonthExpense  Gender  \\\n",
              "SkillFactory_Id                                                                \n",
              "1.0               2013-09-01  начальник п     180000.0       90000.0     0.0   \n",
              "2.0               2022-12-01     директор     200000.0       60000.0     0.0   \n",
              "3.0               2005-12-01     ДИРЕКТОР     300000.0       45000.0     1.0   \n",
              "4.0               2005-12-01     ДИРЕКТОР     300000.0       45000.0     1.0   \n",
              "5.0               2005-12-01     ДИРЕКТОР     300000.0       45000.0     1.0   \n",
              "\n",
              "                                 Family status  ...  SNILS  BankA_decision  \\\n",
              "SkillFactory_Id                                 ...                          \n",
              "1.0              Никогда в браке не состоял(а)  ...    0.0         success   \n",
              "2.0              Никогда в браке не состоял(а)  ...    0.0         success   \n",
              "3.0              Никогда в браке не состоял(а)  ...    0.0          denied   \n",
              "4.0              Никогда в браке не состоял(а)  ...    0.0         success   \n",
              "5.0              Никогда в браке не состоял(а)  ...    0.0         success   \n",
              "\n",
              "                BankB_decision BankC_decision BankD_decision BankE_decision  \\\n",
              "SkillFactory_Id                                                               \n",
              "1.0                    success        success        success         denied   \n",
              "2.0                     denied        success         denied        success   \n",
              "3.0                     denied        success        success        success   \n",
              "4.0                     denied        success        success        success   \n",
              "5.0                     denied        success        success        success   \n",
              "\n",
              "                Merch_code  Loan_amount  Loan_term    Goods_category  \n",
              "SkillFactory_Id                                                       \n",
              "1.0                   77.0     137000.0       18.0         Furniture  \n",
              "2.0                   27.0      33000.0        6.0           Fitness  \n",
              "3.0                   19.0     165000.0       24.0  Medical_services  \n",
              "4.0                   34.0      67000.0       12.0         Education  \n",
              "5.0                   75.0      36000.0        6.0         Furniture  \n",
              "\n",
              "[5 rows x 21 columns]"
            ]
          },
          "execution_count": 4,
          "metadata": {},
          "output_type": "execute_result"
        }
      ],
      "source": [
        "df.head(5)"
      ]
    },
    {
      "cell_type": "code",
      "execution_count": 5,
      "metadata": {
        "colab": {
          "base_uri": "https://localhost:8080/"
        },
        "id": "5bY7JaQID-PD",
        "outputId": "22b2ef36-0604-4110-8cb8-c73014e14ebc"
      },
      "outputs": [
        {
          "name": "stdout",
          "output_type": "stream",
          "text": [
            "<class 'pandas.core.frame.DataFrame'>\n",
            "Index: 6603 entries, 1.0 to 8787.0\n",
            "Data columns (total 21 columns):\n",
            " #   Column             Non-Null Count  Dtype         \n",
            "---  ------             --------------  -----         \n",
            " 0   BirthDate          6603 non-null   datetime64[ns]\n",
            " 1   education          6603 non-null   object        \n",
            " 2   employment status  6603 non-null   object        \n",
            " 3   Value              6603 non-null   object        \n",
            " 4   JobStartDate       6603 non-null   datetime64[ns]\n",
            " 5   Position           6603 non-null   object        \n",
            " 6   MonthProfit        6603 non-null   float64       \n",
            " 7   MonthExpense       6603 non-null   float64       \n",
            " 8   Gender             6603 non-null   float64       \n",
            " 9   Family status      6603 non-null   object        \n",
            " 10  ChildCount         6603 non-null   float64       \n",
            " 11  SNILS              6603 non-null   float64       \n",
            " 12  BankA_decision     6603 non-null   object        \n",
            " 13  BankB_decision     6603 non-null   object        \n",
            " 14  BankC_decision     6603 non-null   object        \n",
            " 15  BankD_decision     6603 non-null   object        \n",
            " 16  BankE_decision     6603 non-null   object        \n",
            " 17  Merch_code         6603 non-null   float64       \n",
            " 18  Loan_amount        6603 non-null   float64       \n",
            " 19  Loan_term          6603 non-null   float64       \n",
            " 20  Goods_category     6603 non-null   object        \n",
            "dtypes: datetime64[ns](2), float64(8), object(11)\n",
            "memory usage: 1.1+ MB\n"
          ]
        }
      ],
      "source": [
        "df.info()"
      ]
    },
    {
      "cell_type": "code",
      "execution_count": 6,
      "metadata": {},
      "outputs": [
        {
          "name": "stdout",
          "output_type": "stream",
          "text": [
            "res= CarierLevel\n",
            "НИЗШЕЕ_ЗВЕНО     1809\n",
            "СРЕДНЕЕ_ЗВЕНО    1302\n",
            "МЕН1              921\n",
            "МЕН2              583\n",
            "ДИР2              554\n",
            "САМ               521\n",
            "ИП                404\n",
            "ДИР1              242\n",
            "ЗАМДИР            128\n",
            "РЕЗЕРВ            109\n",
            "ЗАМНАЧ             30\n",
            "Name: count, dtype: int64\n"
          ]
        }
      ],
      "source": [
        "res = test_CarierLevel_feature_creator(df)"
      ]
    },
    {
      "cell_type": "code",
      "execution_count": 7,
      "metadata": {},
      "outputs": [
        {
          "name": "stdout",
          "output_type": "stream",
          "text": [
            "Исходное количество nan в фиче <Value>: 0 штук.\n",
            "Устранено: 0 штук.\n",
            "Фича <Value> не содержит пропусков.\n"
          ]
        },
        {
          "name": "stdout",
          "output_type": "stream",
          "text": [
            "Легенда по которой выполняется оцифровка трудового стажа:\n",
            " {'10 и более лет': 1.0, '3 - 4 года': 0.35, '2 - 3 года': 0.25, '4 - 5 лет': 0.45, '5 - 6 лет': 0.55, '1 - 2 года': 0.15, '6 - 7 лет': 0.65, '7 - 8 лет': 0.75, '8 - 9 лет': 0.85, '6 месяцев - 1 год': 0.075, '9 - 10 лет': 0.95, '4 - 6 месяцев': 0.042, 'менее 4 месяцев': 0.017, '0 месяцев 0 лет': 0.001}\n"
          ]
        }
      ],
      "source": [
        "res = test_ValueDig_feature_creator(df)"
      ]
    },
    {
      "cell_type": "code",
      "execution_count": 8,
      "metadata": {},
      "outputs": [
        {
          "data": {
            "text/plain": [
              "ValueDig\n",
              "1.000    3613\n",
              "0.350     526\n",
              "0.250     499\n",
              "0.450     370\n",
              "0.550     293\n",
              "0.150     272\n",
              "0.650     250\n",
              "0.750     225\n",
              "0.850     152\n",
              "0.075     121\n",
              "0.001     109\n",
              "0.950      88\n",
              "0.042      53\n",
              "0.017      32\n",
              "Name: count, dtype: int64"
            ]
          },
          "execution_count": 8,
          "metadata": {},
          "output_type": "execute_result"
        }
      ],
      "source": [
        "res.ValueDig.value_counts()"
      ]
    },
    {
      "cell_type": "markdown",
      "metadata": {},
      "source": [
        "# Кластеризация по доходу"
      ]
    },
    {
      "cell_type": "code",
      "execution_count": 9,
      "metadata": {},
      "outputs": [
        {
          "data": {
            "text/plain": [
              "SkillFactory_Id\n",
              "163.0     0 месяцев 0 лет\n",
              "176.0     0 месяцев 0 лет\n",
              "273.0     0 месяцев 0 лет\n",
              "413.0     0 месяцев 0 лет\n",
              "414.0     0 месяцев 0 лет\n",
              "               ...       \n",
              "8537.0    0 месяцев 0 лет\n",
              "8630.0    0 месяцев 0 лет\n",
              "8671.0    0 месяцев 0 лет\n",
              "8701.0    0 месяцев 0 лет\n",
              "8764.0    0 месяцев 0 лет\n",
              "Name: Value, Length: 109, dtype: object"
            ]
          },
          "execution_count": 9,
          "metadata": {},
          "output_type": "execute_result"
        }
      ],
      "source": [
        "df[\"Value\"][df['Value'].str.contains('0 месяцев 0 лет')]\n"
      ]
    },
    {
      "cell_type": "code",
      "execution_count": 10,
      "metadata": {},
      "outputs": [
        {
          "name": "stdout",
          "output_type": "stream",
          "text": [
            "Исходное количество nan в фиче <Value>: 0 штук.\n",
            "Устранено: 0 штук.\n",
            "Фича <Value> не содержит пропусков.\n",
            "Легенда по которой выполняется оцифровка трудового стажа:\n",
            " {'10 и более лет': 1.0, '3 - 4 года': 0.35, '2 - 3 года': 0.25, '4 - 5 лет': 0.45, '5 - 6 лет': 0.55, '1 - 2 года': 0.15, '6 - 7 лет': 0.65, '7 - 8 лет': 0.75, '8 - 9 лет': 0.85, '6 месяцев - 1 год': 0.075, '9 - 10 лет': 0.95, '4 - 6 месяцев': 0.042, 'менее 4 месяцев': 0.017, '0 месяцев 0 лет': 0.001}\n"
          ]
        },
        {
          "data": {
            "text/plain": [
              "SkillFactory_Id\n",
              "1.0       0.95\n",
              "2.0       0.15\n",
              "3.0       1.00\n",
              "4.0       1.00\n",
              "5.0       1.00\n",
              "          ... \n",
              "8780.0    1.00\n",
              "8782.0    1.00\n",
              "8783.0    1.00\n",
              "8786.0    0.15\n",
              "8787.0    0.15\n",
              "Name: Value, Length: 6603, dtype: float64"
            ]
          },
          "execution_count": 10,
          "metadata": {},
          "output_type": "execute_result"
        }
      ],
      "source": [
        "ValueDig_feature_creator(df)"
      ]
    },
    {
      "cell_type": "code",
      "execution_count": 11,
      "metadata": {},
      "outputs": [
        {
          "name": "stdout",
          "output_type": "stream",
          "text": [
            "[0 1 1]\n"
          ]
        },
        {
          "name": "stderr",
          "output_type": "stream",
          "text": [
            "/home/igor/anaconda3/envs/cuda_p3_9/lib/python3.9/site-packages/sklearn/cluster/_kmeans.py:1412: FutureWarning: The default value of `n_init` will change from 10 to 'auto' in 1.4. Set the value of `n_init` explicitly to suppress the warning\n",
            "  super()._check_params_vs_input(X, default_n_init=10)\n"
          ]
        }
      ],
      "source": [
        "from sklearn.cluster import KMeans\n",
        "import numpy as np\n",
        "\n",
        "# Загрузка данных\n",
        "data = np.array([[10000], [20000], [30000], [40000], [50000], [60000]])\n",
        "\n",
        "# Создание модели k-средних с 2 кластерами\n",
        "kmeans = KMeans(n_clusters=2)\n",
        "\n",
        "# Обучение модели\n",
        "kmeans.fit(data)\n",
        "\n",
        "# Предсказание кластеров для новых данных\n",
        "new_data = np.array([[15000], [45000], [55000]])\n",
        "predicted_clusters = kmeans.predict(new_data)\n",
        "\n",
        "# Вывод предсказанных кластеров\n",
        "print(predicted_clusters)"
      ]
    },
    {
      "cell_type": "markdown",
      "metadata": {
        "id": "8FE3h7veD-PE"
      },
      "source": [
        "## Работа со столбцами"
      ]
    },
    {
      "cell_type": "markdown",
      "metadata": {
        "id": "OwtaPPUucoPg"
      },
      "source": [
        "### Обработка признаков BirthDate, education,<br>employment status, Value, JobStartDate<br>(И.Пластов, А.Крупский)\n",
        "- BirthDate\n",
        "-\teducation\n",
        "- employment status\n",
        "- Value\n",
        "- JobStartDate"
      ]
    },
    {
      "cell_type": "markdown",
      "metadata": {
        "id": "JtNg-psSdFI4"
      },
      "source": [
        "#### Очистка признаков от пропусков *BirthDate*"
      ]
    },
    {
      "cell_type": "code",
      "execution_count": 12,
      "metadata": {},
      "outputs": [
        {
          "name": "stdout",
          "output_type": "stream",
          "text": [
            "Mode = 0   1998-04-23\n",
            "Name: BirthDate, dtype: datetime64[ns]\n",
            "Количество nan в фиче <BirthDate>: 0 штук.\n",
            "Фича <BirthDate> не содержит пропусков.\n",
            "Количество nan в фиче <education>: 0 штук.\n",
            "Фича <education> не содержит пропусков.\n",
            "Исходное количество nan в фиче <employment status>: 0 штук.\n",
            "Устранено: 0 штук.\n",
            "Фича <employment status> не содержит пропусков.\n",
            "Исходное количество nan в фиче <Value>: 0 штук.\n",
            "Устранено: 0 штук.\n",
            "Фича <Value> не содержит пропусков.\n",
            "<class 'pandas.core.series.Series'>\n",
            "Исходное количество nan в фиче <JobStartDate>: 0 штук.\n",
            "Устранено: 0 штук.\n",
            "Фича <JobStartDate> не содержит пропусков.\n"
          ]
        }
      ],
      "source": [
        "df = clean_features(df)"
      ]
    },
    {
      "cell_type": "code",
      "execution_count": 13,
      "metadata": {},
      "outputs": [
        {
          "name": "stdout",
          "output_type": "stream",
          "text": [
            "Количество nan в фиче <education>: 0 штук.\n",
            "Фича <education> не содержит пропусков.\n",
            "Легенда по которой выполняется оцифровка уровня образования:\n",
            " {'высшее - специалист': 0.6, 'среднее профессиональное': 0.3, 'среднее': 0.2, 'неоконченное высшее': 0.4, 'бакалавр': 0.5, 'несколько высших': 0.8, 'магистр': 0.7, 'неоконченное среднее': 0.1, 'mba': 0.7, 'ученая степень': 1.0}\n",
            "Количество nan в фиче <education>: 0 штук.\n",
            "Фича <education> не содержит пропусков.\n",
            "Исходное количество nan в фиче <employment status>: 0 штук.\n",
            "Устранено: 0 штук.\n",
            "Фича <employment status> не содержит пропусков.\n",
            "Легенда по которой выполняется оцифровка уровня занятости:\n",
            " {'работаю по найму полный рабочий день/служу': 1.0, 'собственное дело': 1.0, 'не работаю': 0.001, 'работаю по найму неполный рабочий день': 0.5, 'студент': 0.001, 'декретный отпуск': 0.001, 'пенсионер': 0.001}\n",
            "Исходное количество nan в фиче <Value>: 0 штук.\n",
            "Устранено: 0 штук.\n",
            "Фича <Value> не содержит пропусков.\n",
            "Легенда по которой выполняется оцифровка трудового стажа:\n",
            " {'10 и более лет': 1.0, '3 - 4 года': 0.35, '2 - 3 года': 0.25, '4 - 5 лет': 0.45, '5 - 6 лет': 0.55, '1 - 2 года': 0.15, '6 - 7 лет': 0.65, '7 - 8 лет': 0.75, '8 - 9 лет': 0.85, '6 месяцев - 1 год': 0.075, '9 - 10 лет': 0.95, '4 - 6 месяцев': 0.042, 'менее 4 месяцев': 0.017, '0 месяцев 0 лет': 0.001}\n",
            "Исходное количество nan в фиче <Value>: 0 штук.\n",
            "Устранено: 0 штук.\n",
            "Фича <Value> не содержит пропусков.\n",
            "Легенда по которой выполняется оцифровка трудового стажа:\n",
            " {'10 и более лет': 1.0, '3 - 4 года': 0.35, '2 - 3 года': 0.25, '4 - 5 лет': 0.45, '5 - 6 лет': 0.55, '1 - 2 года': 0.15, '6 - 7 лет': 0.65, '7 - 8 лет': 0.75, '8 - 9 лет': 0.85, '6 месяцев - 1 год': 0.075, '9 - 10 лет': 0.95, '4 - 6 месяцев': 0.042, 'менее 4 месяцев': 0.017, '0 месяцев 0 лет': 0.001}\n"
          ]
        },
        {
          "ename": "TypeError",
          "evalue": "unsupported operand type(s) for /: 'str' and 'float'",
          "output_type": "error",
          "traceback": [
            "\u001b[0;31m---------------------------------------------------------------------------\u001b[0m",
            "\u001b[0;31mTypeError\u001b[0m                                 Traceback (most recent call last)",
            "File \u001b[0;32m~/anaconda3/envs/cuda_p3_9/lib/python3.9/site-packages/pandas/core/ops/array_ops.py:220\u001b[0m, in \u001b[0;36m_na_arithmetic_op\u001b[0;34m(left, right, op, is_cmp)\u001b[0m\n\u001b[1;32m    219\u001b[0m \u001b[39mtry\u001b[39;00m:\n\u001b[0;32m--> 220\u001b[0m     result \u001b[39m=\u001b[39m func(left, right)\n\u001b[1;32m    221\u001b[0m \u001b[39mexcept\u001b[39;00m \u001b[39mTypeError\u001b[39;00m:\n",
            "File \u001b[0;32m~/anaconda3/envs/cuda_p3_9/lib/python3.9/site-packages/pandas/core/computation/expressions.py:242\u001b[0m, in \u001b[0;36mevaluate\u001b[0;34m(op, a, b, use_numexpr)\u001b[0m\n\u001b[1;32m    240\u001b[0m     \u001b[39mif\u001b[39;00m use_numexpr:\n\u001b[1;32m    241\u001b[0m         \u001b[39m# error: \"None\" not callable\u001b[39;00m\n\u001b[0;32m--> 242\u001b[0m         \u001b[39mreturn\u001b[39;00m _evaluate(op, op_str, a, b)  \u001b[39m# type: ignore[misc]\u001b[39;00m\n\u001b[1;32m    243\u001b[0m \u001b[39mreturn\u001b[39;00m _evaluate_standard(op, op_str, a, b)\n",
            "File \u001b[0;32m~/anaconda3/envs/cuda_p3_9/lib/python3.9/site-packages/pandas/core/computation/expressions.py:131\u001b[0m, in \u001b[0;36m_evaluate_numexpr\u001b[0;34m(op, op_str, a, b)\u001b[0m\n\u001b[1;32m    130\u001b[0m \u001b[39mif\u001b[39;00m result \u001b[39mis\u001b[39;00m \u001b[39mNone\u001b[39;00m:\n\u001b[0;32m--> 131\u001b[0m     result \u001b[39m=\u001b[39m _evaluate_standard(op, op_str, a, b)\n\u001b[1;32m    133\u001b[0m \u001b[39mreturn\u001b[39;00m result\n",
            "File \u001b[0;32m~/anaconda3/envs/cuda_p3_9/lib/python3.9/site-packages/pandas/core/computation/expressions.py:73\u001b[0m, in \u001b[0;36m_evaluate_standard\u001b[0;34m(op, op_str, a, b)\u001b[0m\n\u001b[1;32m     72\u001b[0m     _store_test_result(\u001b[39mFalse\u001b[39;00m)\n\u001b[0;32m---> 73\u001b[0m \u001b[39mreturn\u001b[39;00m op(a, b)\n",
            "\u001b[0;31mTypeError\u001b[0m: unsupported operand type(s) for /: 'str' and 'float'",
            "\nDuring handling of the above exception, another exception occurred:\n",
            "\u001b[0;31mTypeError\u001b[0m                                 Traceback (most recent call last)",
            "\u001b[1;32m/home/igor/Plastov/XAKATOH_2/igors_tests.ipynb Cell 20\u001b[0m line \u001b[0;36m1\n\u001b[0;32m----> <a href='vscode-notebook-cell:/home/igor/Plastov/XAKATOH_2/igors_tests.ipynb#X25sZmlsZQ%3D%3D?line=0'>1</a>\u001b[0m df \u001b[39m=\u001b[39m make_features(df)\n",
            "File \u001b[0;32m~/Plastov/XAKATOH_2/Data_preproc/pos_prepr_by_Igor.py:1091\u001b[0m, in \u001b[0;36mmake_features\u001b[0;34m(df)\u001b[0m\n\u001b[1;32m   1089\u001b[0m df[\u001b[39m'\u001b[39m\u001b[39mCarierLevel_feature_creator\u001b[39m\u001b[39m'\u001b[39m] \u001b[39m=\u001b[39m CarierLevel_feature_creator(df)\n\u001b[1;32m   1090\u001b[0m df[\u001b[39m'\u001b[39m\u001b[39mCarierLevelDig_feature_creator\u001b[39m\u001b[39m'\u001b[39m] \u001b[39m=\u001b[39m CarierLevelDig_feature_creator(df)\n\u001b[0;32m-> 1091\u001b[0m df[\u001b[39m'\u001b[39m\u001b[39mCarierVelocity_feature_creator\u001b[39m\u001b[39m'\u001b[39m] \u001b[39m=\u001b[39m CarierVelocity_feature_creator(df)\n\u001b[1;32m   1092\u001b[0m df[\u001b[39m'\u001b[39m\u001b[39m]zodiac\u001b[39m\u001b[39m'\u001b[39m] \u001b[39m=\u001b[39m zodiac_feature_creator(df)   \n\u001b[1;32m   1093\u001b[0m \u001b[39mreturn\u001b[39;00m df\n",
            "File \u001b[0;32m~/Plastov/XAKATOH_2/Data_preproc/pos_prepr_by_Igor.py:1051\u001b[0m, in \u001b[0;36mCarierVelocity_feature_creator\u001b[0;34m(df)\u001b[0m\n\u001b[1;32m   1049\u001b[0m rates \u001b[39m=\u001b[39m CarierLevelDig_feature_creator(mc)\n\u001b[1;32m   1050\u001b[0m values \u001b[39m=\u001b[39m ValueDig_feature_creator(mc)\n\u001b[0;32m-> 1051\u001b[0m carier_velocity \u001b[39m=\u001b[39m rates\u001b[39m/\u001b[39;49mvalues\n\u001b[1;32m   1052\u001b[0m \u001b[39mreturn\u001b[39;00m carier_velocity\n",
            "File \u001b[0;32m~/anaconda3/envs/cuda_p3_9/lib/python3.9/site-packages/pandas/core/ops/common.py:76\u001b[0m, in \u001b[0;36m_unpack_zerodim_and_defer.<locals>.new_method\u001b[0;34m(self, other)\u001b[0m\n\u001b[1;32m     72\u001b[0m             \u001b[39mreturn\u001b[39;00m \u001b[39mNotImplemented\u001b[39m\n\u001b[1;32m     74\u001b[0m other \u001b[39m=\u001b[39m item_from_zerodim(other)\n\u001b[0;32m---> 76\u001b[0m \u001b[39mreturn\u001b[39;00m method(\u001b[39mself\u001b[39;49m, other)\n",
            "File \u001b[0;32m~/anaconda3/envs/cuda_p3_9/lib/python3.9/site-packages/pandas/core/arraylike.py:210\u001b[0m, in \u001b[0;36mOpsMixin.__truediv__\u001b[0;34m(self, other)\u001b[0m\n\u001b[1;32m    208\u001b[0m \u001b[39m@unpack_zerodim_and_defer\u001b[39m(\u001b[39m\"\u001b[39m\u001b[39m__truediv__\u001b[39m\u001b[39m\"\u001b[39m)\n\u001b[1;32m    209\u001b[0m \u001b[39mdef\u001b[39;00m \u001b[39m__truediv__\u001b[39m(\u001b[39mself\u001b[39m, other):\n\u001b[0;32m--> 210\u001b[0m     \u001b[39mreturn\u001b[39;00m \u001b[39mself\u001b[39;49m\u001b[39m.\u001b[39;49m_arith_method(other, operator\u001b[39m.\u001b[39;49mtruediv)\n",
            "File \u001b[0;32m~/anaconda3/envs/cuda_p3_9/lib/python3.9/site-packages/pandas/core/series.py:5815\u001b[0m, in \u001b[0;36mSeries._arith_method\u001b[0;34m(self, other, op)\u001b[0m\n\u001b[1;32m   5813\u001b[0m \u001b[39mdef\u001b[39;00m \u001b[39m_arith_method\u001b[39m(\u001b[39mself\u001b[39m, other, op):\n\u001b[1;32m   5814\u001b[0m     \u001b[39mself\u001b[39m, other \u001b[39m=\u001b[39m \u001b[39mself\u001b[39m\u001b[39m.\u001b[39m_align_for_op(other)\n\u001b[0;32m-> 5815\u001b[0m     \u001b[39mreturn\u001b[39;00m base\u001b[39m.\u001b[39;49mIndexOpsMixin\u001b[39m.\u001b[39;49m_arith_method(\u001b[39mself\u001b[39;49m, other, op)\n",
            "File \u001b[0;32m~/anaconda3/envs/cuda_p3_9/lib/python3.9/site-packages/pandas/core/base.py:1381\u001b[0m, in \u001b[0;36mIndexOpsMixin._arith_method\u001b[0;34m(self, other, op)\u001b[0m\n\u001b[1;32m   1378\u001b[0m     rvalues \u001b[39m=\u001b[39m np\u001b[39m.\u001b[39marange(rvalues\u001b[39m.\u001b[39mstart, rvalues\u001b[39m.\u001b[39mstop, rvalues\u001b[39m.\u001b[39mstep)\n\u001b[1;32m   1380\u001b[0m \u001b[39mwith\u001b[39;00m np\u001b[39m.\u001b[39merrstate(\u001b[39mall\u001b[39m\u001b[39m=\u001b[39m\u001b[39m\"\u001b[39m\u001b[39mignore\u001b[39m\u001b[39m\"\u001b[39m):\n\u001b[0;32m-> 1381\u001b[0m     result \u001b[39m=\u001b[39m ops\u001b[39m.\u001b[39;49marithmetic_op(lvalues, rvalues, op)\n\u001b[1;32m   1383\u001b[0m \u001b[39mreturn\u001b[39;00m \u001b[39mself\u001b[39m\u001b[39m.\u001b[39m_construct_result(result, name\u001b[39m=\u001b[39mres_name)\n",
            "File \u001b[0;32m~/anaconda3/envs/cuda_p3_9/lib/python3.9/site-packages/pandas/core/ops/array_ops.py:285\u001b[0m, in \u001b[0;36marithmetic_op\u001b[0;34m(left, right, op)\u001b[0m\n\u001b[1;32m    281\u001b[0m     _bool_arith_check(op, left, right)  \u001b[39m# type: ignore[arg-type]\u001b[39;00m\n\u001b[1;32m    283\u001b[0m     \u001b[39m# error: Argument 1 to \"_na_arithmetic_op\" has incompatible type\u001b[39;00m\n\u001b[1;32m    284\u001b[0m     \u001b[39m# \"Union[ExtensionArray, ndarray[Any, Any]]\"; expected \"ndarray[Any, Any]\"\u001b[39;00m\n\u001b[0;32m--> 285\u001b[0m     res_values \u001b[39m=\u001b[39m _na_arithmetic_op(left, right, op)  \u001b[39m# type: ignore[arg-type]\u001b[39;00m\n\u001b[1;32m    287\u001b[0m \u001b[39mreturn\u001b[39;00m res_values\n",
            "File \u001b[0;32m~/anaconda3/envs/cuda_p3_9/lib/python3.9/site-packages/pandas/core/ops/array_ops.py:229\u001b[0m, in \u001b[0;36m_na_arithmetic_op\u001b[0;34m(left, right, op, is_cmp)\u001b[0m\n\u001b[1;32m    221\u001b[0m \u001b[39mexcept\u001b[39;00m \u001b[39mTypeError\u001b[39;00m:\n\u001b[1;32m    222\u001b[0m     \u001b[39mif\u001b[39;00m \u001b[39mnot\u001b[39;00m is_cmp \u001b[39mand\u001b[39;00m (\n\u001b[1;32m    223\u001b[0m         left\u001b[39m.\u001b[39mdtype \u001b[39m==\u001b[39m \u001b[39mobject\u001b[39m \u001b[39mor\u001b[39;00m \u001b[39mgetattr\u001b[39m(right, \u001b[39m\"\u001b[39m\u001b[39mdtype\u001b[39m\u001b[39m\"\u001b[39m, \u001b[39mNone\u001b[39;00m) \u001b[39m==\u001b[39m \u001b[39mobject\u001b[39m\n\u001b[1;32m    224\u001b[0m     ):\n\u001b[0;32m   (...)\u001b[0m\n\u001b[1;32m    227\u001b[0m         \u001b[39m# Don't do this for comparisons, as that will handle complex numbers\u001b[39;00m\n\u001b[1;32m    228\u001b[0m         \u001b[39m#  incorrectly, see GH#32047\u001b[39;00m\n\u001b[0;32m--> 229\u001b[0m         result \u001b[39m=\u001b[39m _masked_arith_op(left, right, op)\n\u001b[1;32m    230\u001b[0m     \u001b[39melse\u001b[39;00m:\n\u001b[1;32m    231\u001b[0m         \u001b[39mraise\u001b[39;00m\n",
            "File \u001b[0;32m~/anaconda3/envs/cuda_p3_9/lib/python3.9/site-packages/pandas/core/ops/array_ops.py:165\u001b[0m, in \u001b[0;36m_masked_arith_op\u001b[0;34m(x, y, op)\u001b[0m\n\u001b[1;32m    163\u001b[0m     \u001b[39m# See GH#5284, GH#5035, GH#19448 for historical reference\u001b[39;00m\n\u001b[1;32m    164\u001b[0m     \u001b[39mif\u001b[39;00m mask\u001b[39m.\u001b[39many():\n\u001b[0;32m--> 165\u001b[0m         result[mask] \u001b[39m=\u001b[39m op(xrav[mask], yrav[mask])\n\u001b[1;32m    167\u001b[0m \u001b[39melse\u001b[39;00m:\n\u001b[1;32m    168\u001b[0m     \u001b[39mif\u001b[39;00m \u001b[39mnot\u001b[39;00m is_scalar(y):\n",
            "\u001b[0;31mTypeError\u001b[0m: unsupported operand type(s) for /: 'str' and 'float'"
          ]
        }
      ],
      "source": [
        "df = make_features(df)"
      ]
    },
    {
      "cell_type": "code",
      "execution_count": null,
      "metadata": {
        "id": "5PJ9-Mroxk_W"
      },
      "outputs": [],
      "source": [
        "def Monthly_credit_payment(\n",
        "    df: pd.DataFrame,\n",
        "    ) -> pd.Series:\n",
        "    '''Создаем функцию расчета ежемесячного платёжа'''\n",
        "    df = df.copy()\n",
        "\n",
        "    return df['Loan_amount'] // df['Loan_term']"
      ]
    },
    {
      "cell_type": "code",
      "execution_count": null,
      "metadata": {
        "id": "0irPIRzPx3Hv"
      },
      "outputs": [],
      "source": [
        "def Payment_to_income(\n",
        "    df: pd.DataFrame,\n",
        "    ) -> pd.Series:\n",
        "    '''Создаем признак \"показатель долговой нагрузки\"'''\n",
        "    df = df.copy()\n",
        "    monthly_payment = Monthly_credit_payment(df) + df['MonthExpense']\n",
        "\n",
        "    return monthly_payment / df['MonthProfit']"
      ]
    },
    {
      "cell_type": "code",
      "execution_count": null,
      "metadata": {
        "colab": {
          "base_uri": "https://localhost:8080/"
        },
        "id": "ShfB73Q0uT9c",
        "outputId": "6b9cc82f-0331-4c11-b84d-7aa2a28e0c0f"
      },
      "outputs": [],
      "source": [
        "#!pip install scikit-learn"
      ]
    },
    {
      "cell_type": "code",
      "execution_count": null,
      "metadata": {
        "colab": {
          "base_uri": "https://localhost:8080/"
        },
        "id": "Qc6UnKfF7aU_",
        "outputId": "a4da2529-daa4-4728-ab36-2fc43d4af3b6"
      },
      "outputs": [
        {
          "ename": "FileNotFoundError",
          "evalue": "[Errno 2] No such file or directory: 'SF_Mandarin_dataset_ver3_1.csv'",
          "output_type": "error",
          "traceback": [
            "\u001b[0;31m---------------------------------------------------------------------------\u001b[0m",
            "\u001b[0;31mFileNotFoundError\u001b[0m                         Traceback (most recent call last)",
            "\u001b[1;32m/home/igor/Plastov/XAKATOH_2/igors_tests.ipynb Cell 19\u001b[0m line \u001b[0;36m2\n\u001b[1;32m     <a href='vscode-notebook-cell:/home/igor/Plastov/XAKATOH_2/igors_tests.ipynb#X22sZmlsZQ%3D%3D?line=17'>18</a>\u001b[0m     \u001b[39mprint\u001b[39m(\u001b[39m'\u001b[39m\u001b[39mnumerical columns:\u001b[39m\u001b[39m\\t\u001b[39;00m\u001b[39m \u001b[39m\u001b[39m'\u001b[39m,  num_columns, \u001b[39m'\u001b[39m\u001b[39m\\n\u001b[39;00m\u001b[39m len = \u001b[39m\u001b[39m'\u001b[39m,\u001b[39mlen\u001b[39m(num_columns))\n\u001b[1;32m     <a href='vscode-notebook-cell:/home/igor/Plastov/XAKATOH_2/igors_tests.ipynb#X22sZmlsZQ%3D%3D?line=19'>20</a>\u001b[0m     \u001b[39mreturn\u001b[39;00m cat_columns, num_columns\n\u001b[0;32m---> <a href='vscode-notebook-cell:/home/igor/Plastov/XAKATOH_2/igors_tests.ipynb#X22sZmlsZQ%3D%3D?line=22'>23</a>\u001b[0m da \u001b[39m=\u001b[39m pd\u001b[39m.\u001b[39;49mread_csv(\n\u001b[1;32m     <a href='vscode-notebook-cell:/home/igor/Plastov/XAKATOH_2/igors_tests.ipynb#X22sZmlsZQ%3D%3D?line=23'>24</a>\u001b[0m     filepath_or_buffer\u001b[39m=\u001b[39;49m\u001b[39m'\u001b[39;49m\u001b[39mSF_Mandarin_dataset_ver3_1.csv\u001b[39;49m\u001b[39m'\u001b[39;49m,\n\u001b[1;32m     <a href='vscode-notebook-cell:/home/igor/Plastov/XAKATOH_2/igors_tests.ipynb#X22sZmlsZQ%3D%3D?line=24'>25</a>\u001b[0m     sep\u001b[39m=\u001b[39;49m\u001b[39m'\u001b[39;49m\u001b[39m;\u001b[39;49m\u001b[39m'\u001b[39;49m,\n\u001b[1;32m     <a href='vscode-notebook-cell:/home/igor/Plastov/XAKATOH_2/igors_tests.ipynb#X22sZmlsZQ%3D%3D?line=25'>26</a>\u001b[0m     index_col\u001b[39m=\u001b[39;49m\u001b[39m'\u001b[39;49m\u001b[39mSkillFactory_Id\u001b[39;49m\u001b[39m'\u001b[39;49m,\n\u001b[1;32m     <a href='vscode-notebook-cell:/home/igor/Plastov/XAKATOH_2/igors_tests.ipynb#X22sZmlsZQ%3D%3D?line=26'>27</a>\u001b[0m     \u001b[39m#parse_dates=['BirthDate', 'JobStartDate']  <<------ Формат даты/времени заполнятель не прожевывает\u001b[39;49;00m\n\u001b[1;32m     <a href='vscode-notebook-cell:/home/igor/Plastov/XAKATOH_2/igors_tests.ipynb#X22sZmlsZQ%3D%3D?line=27'>28</a>\u001b[0m     )\n\u001b[1;32m     <a href='vscode-notebook-cell:/home/igor/Plastov/XAKATOH_2/igors_tests.ipynb#X22sZmlsZQ%3D%3D?line=30'>31</a>\u001b[0m cat_imputer \u001b[39m=\u001b[39m SimpleImputer(strategy\u001b[39m=\u001b[39m\u001b[39m'\u001b[39m\u001b[39mmost_frequent\u001b[39m\u001b[39m'\u001b[39m) \u001b[39m# Заполнение наиболее частыми значениями для категориальных столбцов\u001b[39;00m\n\u001b[1;32m     <a href='vscode-notebook-cell:/home/igor/Plastov/XAKATOH_2/igors_tests.ipynb#X22sZmlsZQ%3D%3D?line=31'>32</a>\u001b[0m num_imputer \u001b[39m=\u001b[39m SimpleImputer(strategy\u001b[39m=\u001b[39m\u001b[39m'\u001b[39m\u001b[39mmedian\u001b[39m\u001b[39m'\u001b[39m) \u001b[39m# Заполнение медианой для числовых столбцов\u001b[39;00m\n",
            "File \u001b[0;32m~/anaconda3/envs/cuda_p3_9/lib/python3.9/site-packages/pandas/io/parsers/readers.py:948\u001b[0m, in \u001b[0;36mread_csv\u001b[0;34m(filepath_or_buffer, sep, delimiter, header, names, index_col, usecols, dtype, engine, converters, true_values, false_values, skipinitialspace, skiprows, skipfooter, nrows, na_values, keep_default_na, na_filter, verbose, skip_blank_lines, parse_dates, infer_datetime_format, keep_date_col, date_parser, date_format, dayfirst, cache_dates, iterator, chunksize, compression, thousands, decimal, lineterminator, quotechar, quoting, doublequote, escapechar, comment, encoding, encoding_errors, dialect, on_bad_lines, delim_whitespace, low_memory, memory_map, float_precision, storage_options, dtype_backend)\u001b[0m\n\u001b[1;32m    935\u001b[0m kwds_defaults \u001b[39m=\u001b[39m _refine_defaults_read(\n\u001b[1;32m    936\u001b[0m     dialect,\n\u001b[1;32m    937\u001b[0m     delimiter,\n\u001b[0;32m   (...)\u001b[0m\n\u001b[1;32m    944\u001b[0m     dtype_backend\u001b[39m=\u001b[39mdtype_backend,\n\u001b[1;32m    945\u001b[0m )\n\u001b[1;32m    946\u001b[0m kwds\u001b[39m.\u001b[39mupdate(kwds_defaults)\n\u001b[0;32m--> 948\u001b[0m \u001b[39mreturn\u001b[39;00m _read(filepath_or_buffer, kwds)\n",
            "File \u001b[0;32m~/anaconda3/envs/cuda_p3_9/lib/python3.9/site-packages/pandas/io/parsers/readers.py:611\u001b[0m, in \u001b[0;36m_read\u001b[0;34m(filepath_or_buffer, kwds)\u001b[0m\n\u001b[1;32m    608\u001b[0m _validate_names(kwds\u001b[39m.\u001b[39mget(\u001b[39m\"\u001b[39m\u001b[39mnames\u001b[39m\u001b[39m\"\u001b[39m, \u001b[39mNone\u001b[39;00m))\n\u001b[1;32m    610\u001b[0m \u001b[39m# Create the parser.\u001b[39;00m\n\u001b[0;32m--> 611\u001b[0m parser \u001b[39m=\u001b[39m TextFileReader(filepath_or_buffer, \u001b[39m*\u001b[39;49m\u001b[39m*\u001b[39;49mkwds)\n\u001b[1;32m    613\u001b[0m \u001b[39mif\u001b[39;00m chunksize \u001b[39mor\u001b[39;00m iterator:\n\u001b[1;32m    614\u001b[0m     \u001b[39mreturn\u001b[39;00m parser\n",
            "File \u001b[0;32m~/anaconda3/envs/cuda_p3_9/lib/python3.9/site-packages/pandas/io/parsers/readers.py:1448\u001b[0m, in \u001b[0;36mTextFileReader.__init__\u001b[0;34m(self, f, engine, **kwds)\u001b[0m\n\u001b[1;32m   1445\u001b[0m     \u001b[39mself\u001b[39m\u001b[39m.\u001b[39moptions[\u001b[39m\"\u001b[39m\u001b[39mhas_index_names\u001b[39m\u001b[39m\"\u001b[39m] \u001b[39m=\u001b[39m kwds[\u001b[39m\"\u001b[39m\u001b[39mhas_index_names\u001b[39m\u001b[39m\"\u001b[39m]\n\u001b[1;32m   1447\u001b[0m \u001b[39mself\u001b[39m\u001b[39m.\u001b[39mhandles: IOHandles \u001b[39m|\u001b[39m \u001b[39mNone\u001b[39;00m \u001b[39m=\u001b[39m \u001b[39mNone\u001b[39;00m\n\u001b[0;32m-> 1448\u001b[0m \u001b[39mself\u001b[39m\u001b[39m.\u001b[39m_engine \u001b[39m=\u001b[39m \u001b[39mself\u001b[39;49m\u001b[39m.\u001b[39;49m_make_engine(f, \u001b[39mself\u001b[39;49m\u001b[39m.\u001b[39;49mengine)\n",
            "File \u001b[0;32m~/anaconda3/envs/cuda_p3_9/lib/python3.9/site-packages/pandas/io/parsers/readers.py:1705\u001b[0m, in \u001b[0;36mTextFileReader._make_engine\u001b[0;34m(self, f, engine)\u001b[0m\n\u001b[1;32m   1703\u001b[0m     \u001b[39mif\u001b[39;00m \u001b[39m\"\u001b[39m\u001b[39mb\u001b[39m\u001b[39m\"\u001b[39m \u001b[39mnot\u001b[39;00m \u001b[39min\u001b[39;00m mode:\n\u001b[1;32m   1704\u001b[0m         mode \u001b[39m+\u001b[39m\u001b[39m=\u001b[39m \u001b[39m\"\u001b[39m\u001b[39mb\u001b[39m\u001b[39m\"\u001b[39m\n\u001b[0;32m-> 1705\u001b[0m \u001b[39mself\u001b[39m\u001b[39m.\u001b[39mhandles \u001b[39m=\u001b[39m get_handle(\n\u001b[1;32m   1706\u001b[0m     f,\n\u001b[1;32m   1707\u001b[0m     mode,\n\u001b[1;32m   1708\u001b[0m     encoding\u001b[39m=\u001b[39;49m\u001b[39mself\u001b[39;49m\u001b[39m.\u001b[39;49moptions\u001b[39m.\u001b[39;49mget(\u001b[39m\"\u001b[39;49m\u001b[39mencoding\u001b[39;49m\u001b[39m\"\u001b[39;49m, \u001b[39mNone\u001b[39;49;00m),\n\u001b[1;32m   1709\u001b[0m     compression\u001b[39m=\u001b[39;49m\u001b[39mself\u001b[39;49m\u001b[39m.\u001b[39;49moptions\u001b[39m.\u001b[39;49mget(\u001b[39m\"\u001b[39;49m\u001b[39mcompression\u001b[39;49m\u001b[39m\"\u001b[39;49m, \u001b[39mNone\u001b[39;49;00m),\n\u001b[1;32m   1710\u001b[0m     memory_map\u001b[39m=\u001b[39;49m\u001b[39mself\u001b[39;49m\u001b[39m.\u001b[39;49moptions\u001b[39m.\u001b[39;49mget(\u001b[39m\"\u001b[39;49m\u001b[39mmemory_map\u001b[39;49m\u001b[39m\"\u001b[39;49m, \u001b[39mFalse\u001b[39;49;00m),\n\u001b[1;32m   1711\u001b[0m     is_text\u001b[39m=\u001b[39;49mis_text,\n\u001b[1;32m   1712\u001b[0m     errors\u001b[39m=\u001b[39;49m\u001b[39mself\u001b[39;49m\u001b[39m.\u001b[39;49moptions\u001b[39m.\u001b[39;49mget(\u001b[39m\"\u001b[39;49m\u001b[39mencoding_errors\u001b[39;49m\u001b[39m\"\u001b[39;49m, \u001b[39m\"\u001b[39;49m\u001b[39mstrict\u001b[39;49m\u001b[39m\"\u001b[39;49m),\n\u001b[1;32m   1713\u001b[0m     storage_options\u001b[39m=\u001b[39;49m\u001b[39mself\u001b[39;49m\u001b[39m.\u001b[39;49moptions\u001b[39m.\u001b[39;49mget(\u001b[39m\"\u001b[39;49m\u001b[39mstorage_options\u001b[39;49m\u001b[39m\"\u001b[39;49m, \u001b[39mNone\u001b[39;49;00m),\n\u001b[1;32m   1714\u001b[0m )\n\u001b[1;32m   1715\u001b[0m \u001b[39massert\u001b[39;00m \u001b[39mself\u001b[39m\u001b[39m.\u001b[39mhandles \u001b[39mis\u001b[39;00m \u001b[39mnot\u001b[39;00m \u001b[39mNone\u001b[39;00m\n\u001b[1;32m   1716\u001b[0m f \u001b[39m=\u001b[39m \u001b[39mself\u001b[39m\u001b[39m.\u001b[39mhandles\u001b[39m.\u001b[39mhandle\n",
            "File \u001b[0;32m~/anaconda3/envs/cuda_p3_9/lib/python3.9/site-packages/pandas/io/common.py:863\u001b[0m, in \u001b[0;36mget_handle\u001b[0;34m(path_or_buf, mode, encoding, compression, memory_map, is_text, errors, storage_options)\u001b[0m\n\u001b[1;32m    858\u001b[0m \u001b[39melif\u001b[39;00m \u001b[39misinstance\u001b[39m(handle, \u001b[39mstr\u001b[39m):\n\u001b[1;32m    859\u001b[0m     \u001b[39m# Check whether the filename is to be opened in binary mode.\u001b[39;00m\n\u001b[1;32m    860\u001b[0m     \u001b[39m# Binary mode does not support 'encoding' and 'newline'.\u001b[39;00m\n\u001b[1;32m    861\u001b[0m     \u001b[39mif\u001b[39;00m ioargs\u001b[39m.\u001b[39mencoding \u001b[39mand\u001b[39;00m \u001b[39m\"\u001b[39m\u001b[39mb\u001b[39m\u001b[39m\"\u001b[39m \u001b[39mnot\u001b[39;00m \u001b[39min\u001b[39;00m ioargs\u001b[39m.\u001b[39mmode:\n\u001b[1;32m    862\u001b[0m         \u001b[39m# Encoding\u001b[39;00m\n\u001b[0;32m--> 863\u001b[0m         handle \u001b[39m=\u001b[39m \u001b[39mopen\u001b[39;49m(\n\u001b[1;32m    864\u001b[0m             handle,\n\u001b[1;32m    865\u001b[0m             ioargs\u001b[39m.\u001b[39;49mmode,\n\u001b[1;32m    866\u001b[0m             encoding\u001b[39m=\u001b[39;49mioargs\u001b[39m.\u001b[39;49mencoding,\n\u001b[1;32m    867\u001b[0m             errors\u001b[39m=\u001b[39;49merrors,\n\u001b[1;32m    868\u001b[0m             newline\u001b[39m=\u001b[39;49m\u001b[39m\"\u001b[39;49m\u001b[39m\"\u001b[39;49m,\n\u001b[1;32m    869\u001b[0m         )\n\u001b[1;32m    870\u001b[0m     \u001b[39melse\u001b[39;00m:\n\u001b[1;32m    871\u001b[0m         \u001b[39m# Binary mode\u001b[39;00m\n\u001b[1;32m    872\u001b[0m         handle \u001b[39m=\u001b[39m \u001b[39mopen\u001b[39m(handle, ioargs\u001b[39m.\u001b[39mmode)\n",
            "\u001b[0;31mFileNotFoundError\u001b[0m: [Errno 2] No such file or directory: 'SF_Mandarin_dataset_ver3_1.csv'"
          ]
        }
      ],
      "source": [
        "from sklearn import preprocessing\n",
        "from sklearn.pipeline import Pipeline\n",
        "from sklearn.impute import SimpleImputer\n",
        "\n",
        "def cat_num_split(df: pd.DataFrame) -> tuple:\n",
        "    '''Ищем категориальные и числовые признаки в датафрейме'''\n",
        "\n",
        "    cat_columns = []\n",
        "    num_columns = []\n",
        "\n",
        "    for column_name in df.columns:\n",
        "        if (df[column_name].dtypes == object):\n",
        "            cat_columns += [column_name]\n",
        "        else:\n",
        "            num_columns += [column_name]\n",
        "\n",
        "    print('categorical columns:\\t ',cat_columns, '\\n len = ',len(cat_columns))\n",
        "    print('numerical columns:\\t ',  num_columns, '\\n len = ',len(num_columns))\n",
        "\n",
        "    return cat_columns, num_columns\n",
        "\n",
        "\n",
        "da = pd.read_csv(\n",
        "    filepath_or_buffer='SF_Mandarin_dataset_ver3_1.csv',\n",
        "    sep=';',\n",
        "    index_col='SkillFactory_Id',\n",
        "    #parse_dates=['BirthDate', 'JobStartDate']  <<------ Формат даты/времени заполнятель не прожевывает\n",
        "    )\n",
        "\n",
        "\n",
        "cat_imputer = SimpleImputer(strategy='most_frequent') # Заполнение наиболее частыми значениями для категориальных столбцов\n",
        "num_imputer = SimpleImputer(strategy='median') # Заполнение медианой для числовых столбцов\n",
        "\n",
        "\n",
        "cat_columns, num_columns = cat_num_split(da)\n",
        "\n",
        "\n",
        "da[cat_columns] = cat_imputer.fit_transform(da[cat_columns])\n",
        "da[num_columns] = num_imputer.fit_transform(da[num_columns])\n",
        "\n",
        "da.info()"
      ]
    },
    {
      "cell_type": "markdown",
      "metadata": {
        "id": "QqUK7YR6Efc6"
      },
      "source": [
        "# Самый простой полный алгоритм обучения модели на наших данных"
      ]
    },
    {
      "cell_type": "markdown",
      "metadata": {
        "id": "X9FZqQtyE7yd"
      },
      "source": [
        "## Импорты"
      ]
    },
    {
      "cell_type": "code",
      "execution_count": null,
      "metadata": {
        "id": "cjJLyMzmEmpZ"
      },
      "outputs": [],
      "source": [
        "from datetime import date\n",
        "\n",
        "import pandas as pd\n",
        "import numpy as np\n",
        "\n",
        "from sklearn.model_selection import train_test_split\n",
        "from sklearn.linear_model import RidgeClassifier\n",
        "\n",
        "from sklearn import preprocessing\n",
        "from sklearn.pipeline import Pipeline\n",
        "from sklearn.impute import SimpleImputer\n",
        "\n",
        "from catboost import CatBoostClassifier\n",
        "from catboost import CatBoostRegressor\n",
        "\n",
        "from catboost import Pool\n",
        "\n",
        "import matplotlib.pyplot as plt"
      ]
    },
    {
      "cell_type": "markdown",
      "metadata": {
        "id": "b3hbHAfWFJes"
      },
      "source": [
        "## Функции\n"
      ]
    },
    {
      "cell_type": "code",
      "execution_count": null,
      "metadata": {
        "id": "jHaMee-7FBrS"
      },
      "outputs": [],
      "source": [
        "def cat_num_split(df: pd.DataFrame) -> tuple:\n",
        "    '''Ищем категориальные и числовые признаки в датафрейме'''\n",
        "\n",
        "    cat_columns = []\n",
        "    num_columns = []\n",
        "\n",
        "    for column_name in df.columns:\n",
        "        if (df[column_name].dtypes == object):\n",
        "            cat_columns += [column_name]\n",
        "        else:\n",
        "            num_columns += [column_name]\n",
        "\n",
        "    print('categorical columns:\\t ',cat_columns, '\\n len = ',len(cat_columns))\n",
        "    print('numerical columns:\\t ',  num_columns, '\\n len = ',len(num_columns))\n",
        "\n",
        "    return cat_columns, num_columns\n",
        "\n",
        "def Age_feature_creator(\n",
        "    df: pd.DataFrame,\n",
        "    ) -> pd.Series:\n",
        "    '''Создаем признак \"возраст\"'''\n",
        "    df = df.copy()\n",
        "\n",
        "    return date.today().year - df['BirthDate'].dt.year\n",
        "\n",
        "\n",
        "def Num_value_feature_creator(\n",
        "    df: pd.DataFrame,\n",
        "    ) -> pd.Series:\n",
        "    '''Создаем признак \"стаж работы\" из даты начала работы'''\n",
        "    df = df.copy()\n",
        "\n",
        "    return date.today().year - df['JobStartDate'].dt.year\n",
        "\n",
        "\n",
        "def Monthly_credit_payment(\n",
        "    df: pd.DataFrame,\n",
        "    ) -> pd.Series:\n",
        "    '''Создаем функцию расчета ежемесячного платёжа'''\n",
        "    df = df.copy()\n",
        "\n",
        "    return df['Loan_amount'] // df['Loan_term']\n",
        "\n",
        "\n",
        "def Payment_to_income(\n",
        "    df: pd.DataFrame,\n",
        "    ) -> pd.Series:\n",
        "    '''Создаем признак \"показатель долговой нагрузки\"'''\n",
        "    df = df.copy()\n",
        "    monthly_payment = Monthly_credit_payment(df) + df['MonthExpense']\n",
        "\n",
        "    return monthly_payment / df['MonthProfit']\n"
      ]
    },
    {
      "cell_type": "markdown",
      "metadata": {
        "id": "bbJSBE83FVrf"
      },
      "source": [
        "## Загрузка и предобработка\n"
      ]
    },
    {
      "cell_type": "code",
      "execution_count": null,
      "metadata": {
        "colab": {
          "base_uri": "https://localhost:8080/"
        },
        "id": "caL1IXNdFT_Q",
        "outputId": "7089c541-1e45-4336-861d-5bae3c52d76b"
      },
      "outputs": [
        {
          "name": "stdout",
          "output_type": "stream",
          "text": [
            "Количество nan в фиче <education>: 0 штук.\n",
            "Фича <education> не содержит пропусков.\n"
          ]
        },
        {
          "name": "stdout",
          "output_type": "stream",
          "text": [
            "Легенда по которой выполняется оцифровка уровня образования:\n",
            " {'высшее - специалист': 0.6, 'среднее профессиональное': 0.3, 'среднее': 0.2, 'неоконченное высшее': 0.4, 'бакалавр': 0.5, 'несколько высших': 0.8, 'магистр': 0.7, 'неоконченное среднее': 0.1, 'mba': 0.7, 'ученая степень': 1.0}\n",
            "Количество nan в фиче <education>: 0 штук.\n",
            "Фича <education> не содержит пропусков.\n",
            "Исходное количество nan в фиче <employment status>: 0 штук.\n",
            "Устранено: 0 штук.\n",
            "Фича <employment status> не содержит пропусков.\n",
            "Легенда по которой выполняется оцифровка уровня занятости:\n",
            " {'работаю по найму полный рабочий день/служу': 1.0, 'собственное дело': 1.0, 'не работаю': 0.001, 'работаю по найму неполный рабочий день': 0.5, 'студент': 0.001, 'декретный отпуск': 0.001, 'пенсионер': 0.001}\n",
            "Исходное количество nan в фиче <Value>: 80 штук.\n",
            "Устранено: 0 штук.\n",
            "Легенда по которой выполняется оцифровка трудового стажа:\n",
            " {'10 и более лет': 1.0, '3 - 4 года': 0.35, '2 - 3 года': 0.25, '4 - 5 лет': 0.45, '5 - 6 лет': 0.55, '1 - 2 года': 0.15, '6 - 7 лет': 0.65, '7 - 8 лет': 0.75, '8 - 9 лет': 0.85, '6 месяцев - 1 год': 0.075, '9 - 10 лет': 0.95, '4 - 6 месяцев': 0.042, 'менее 4 месяцев': 0.017}\n",
            "Исходное количество nan в фиче <Value>: 80 штук.\n",
            "Устранено: 0 штук.\n",
            "Легенда по которой выполняется оцифровка трудового стажа:\n",
            " {'10 и более лет': 1.0, '3 - 4 года': 0.35, '2 - 3 года': 0.25, '4 - 5 лет': 0.45, '5 - 6 лет': 0.55, '1 - 2 года': 0.15, '6 - 7 лет': 0.65, '7 - 8 лет': 0.75, '8 - 9 лет': 0.85, '6 месяцев - 1 год': 0.075, '9 - 10 лет': 0.95, '4 - 6 месяцев': 0.042, 'менее 4 месяцев': 0.017}\n"
          ]
        },
        {
          "ename": "ValueError",
          "evalue": "unconverted data remains when parsing with format \"%Y-%m-%d\": \" 00:00:00.0000000\", at position 0. You might want to try:\n    - passing `format` if your strings have a consistent format;\n    - passing `format='ISO8601'` if your strings are all ISO8601 but not necessarily in exactly the same format;\n    - passing `format='mixed'`, and the format will be inferred for each element individually. You might want to use `dayfirst` alongside this.",
          "output_type": "error",
          "traceback": [
            "\u001b[0;31m---------------------------------------------------------------------------\u001b[0m",
            "\u001b[0;31mValueError\u001b[0m                                Traceback (most recent call last)",
            "\u001b[1;32m/home/igor/Plastov/XAKATOH_2/igors_tests.ipynb Cell 25\u001b[0m line \u001b[0;36m3\n\u001b[1;32m     <a href='vscode-notebook-cell:/home/igor/Plastov/XAKATOH_2/igors_tests.ipynb#Y246sZmlsZQ%3D%3D?line=11'>12</a>\u001b[0m \u001b[39m\"\"\" Пластов\u001b[39;00m\n\u001b[1;32m     <a href='vscode-notebook-cell:/home/igor/Plastov/XAKATOH_2/igors_tests.ipynb#Y246sZmlsZQ%3D%3D?line=12'>13</a>\u001b[0m \u001b[39mdf['Age'] = Age_feature_creator(df)\u001b[39;00m\n\u001b[1;32m     <a href='vscode-notebook-cell:/home/igor/Plastov/XAKATOH_2/igors_tests.ipynb#Y246sZmlsZQ%3D%3D?line=13'>14</a>\u001b[0m \n\u001b[0;32m   (...)\u001b[0m\n\u001b[1;32m     <a href='vscode-notebook-cell:/home/igor/Plastov/XAKATOH_2/igors_tests.ipynb#Y246sZmlsZQ%3D%3D?line=29'>30</a>\u001b[0m \u001b[39mdf['Payment_to_income'] = Payment_to_income(df)\u001b[39;00m\n\u001b[1;32m     <a href='vscode-notebook-cell:/home/igor/Plastov/XAKATOH_2/igors_tests.ipynb#Y246sZmlsZQ%3D%3D?line=30'>31</a>\u001b[0m \u001b[39m\"\"\"\u001b[39;00m\n\u001b[1;32m     <a href='vscode-notebook-cell:/home/igor/Plastov/XAKATOH_2/igors_tests.ipynb#Y246sZmlsZQ%3D%3D?line=32'>33</a>\u001b[0m \u001b[39m# Добавил Пластов  BEGIN\u001b[39;00m\n\u001b[0;32m---> <a href='vscode-notebook-cell:/home/igor/Plastov/XAKATOH_2/igors_tests.ipynb#Y246sZmlsZQ%3D%3D?line=33'>34</a>\u001b[0m df \u001b[39m=\u001b[39m make_features(df)\n\u001b[1;32m     <a href='vscode-notebook-cell:/home/igor/Plastov/XAKATOH_2/igors_tests.ipynb#Y246sZmlsZQ%3D%3D?line=34'>35</a>\u001b[0m \u001b[39m# Добавил Пластов  END\u001b[39;00m\n\u001b[1;32m     <a href='vscode-notebook-cell:/home/igor/Plastov/XAKATOH_2/igors_tests.ipynb#Y246sZmlsZQ%3D%3D?line=35'>36</a>\u001b[0m \n\u001b[1;32m     <a href='vscode-notebook-cell:/home/igor/Plastov/XAKATOH_2/igors_tests.ipynb#Y246sZmlsZQ%3D%3D?line=36'>37</a>\u001b[0m \u001b[39m# Сбрасываю те фичи, которые участвовали в создании новых фич\u001b[39;00m\n\u001b[1;32m     <a href='vscode-notebook-cell:/home/igor/Plastov/XAKATOH_2/igors_tests.ipynb#Y246sZmlsZQ%3D%3D?line=37'>38</a>\u001b[0m df\u001b[39m.\u001b[39mdrop([\u001b[39m'\u001b[39m\u001b[39mMonthProfit\u001b[39m\u001b[39m'\u001b[39m, \u001b[39m'\u001b[39m\u001b[39mMonthExpense\u001b[39m\u001b[39m'\u001b[39m, \u001b[39m'\u001b[39m\u001b[39mLoan_amount\u001b[39m\u001b[39m'\u001b[39m, \u001b[39m'\u001b[39m\u001b[39mLoan_term\u001b[39m\u001b[39m'\u001b[39m], axis\u001b[39m=\u001b[39m\u001b[39m'\u001b[39m\u001b[39mcolumns\u001b[39m\u001b[39m'\u001b[39m, inplace\u001b[39m=\u001b[39m\u001b[39mTrue\u001b[39;00m)\n",
            "File \u001b[0;32m~/Plastov/XAKATOH_2/Data_preproc/pos_prepr_by_Igor.py:863\u001b[0m, in \u001b[0;36mmake_features\u001b[0;34m(df)\u001b[0m\n\u001b[1;32m    861\u001b[0m df[\u001b[39m'\u001b[39m\u001b[39mCarierLevelDig_feature_creator\u001b[39m\u001b[39m'\u001b[39m] \u001b[39m=\u001b[39m CarierLevelDig_feature_creator(df)\n\u001b[1;32m    862\u001b[0m df[\u001b[39m'\u001b[39m\u001b[39mCarierVelocity_feature_creator\u001b[39m\u001b[39m'\u001b[39m] \u001b[39m=\u001b[39m CarierVelocity_feature_creator(df)\n\u001b[0;32m--> 863\u001b[0m df[\u001b[39m'\u001b[39m\u001b[39m]zodiac\u001b[39m\u001b[39m'\u001b[39m] \u001b[39m=\u001b[39m zodiac_feature_creator(df)   \n\u001b[1;32m    864\u001b[0m \u001b[39mreturn\u001b[39;00m df\n",
            "File \u001b[0;32m~/Plastov/XAKATOH_2/Data_preproc/pos_prepr_by_Igor.py:94\u001b[0m, in \u001b[0;36mzodiac_feature_creator\u001b[0;34m(df)\u001b[0m\n\u001b[1;32m     89\u001b[0m \u001b[39m\u001b[39m\u001b[39m\"\"\"\u001b[39;00m\n\u001b[1;32m     90\u001b[0m \u001b[39mФича содержит знаки зодиака соответствующие дню и месяцу рождения соискателя кредита.\u001b[39;00m\n\u001b[1;32m     91\u001b[0m \u001b[39m\"\"\"\u001b[39;00m\n\u001b[1;32m     93\u001b[0m mc \u001b[39m=\u001b[39m df\u001b[39m.\u001b[39mcopy()\n\u001b[0;32m---> 94\u001b[0m f \u001b[39m=\u001b[39m BirthDate_feature_cleaner(mc)\n\u001b[1;32m     95\u001b[0m fch \u001b[39m=\u001b[39m \u001b[39m'\u001b[39m\u001b[39mBirthDate\u001b[39m\u001b[39m'\u001b[39m \u001b[39m# Имя фичи.\u001b[39;00m\n\u001b[1;32m     97\u001b[0m bad_rows \u001b[39m=\u001b[39m \u001b[39mlen\u001b[39m(f[f\u001b[39m.\u001b[39misna() \u001b[39m==\u001b[39m \u001b[39mTrue\u001b[39;00m])\n",
            "File \u001b[0;32m~/Plastov/XAKATOH_2/Data_preproc/pos_prepr_by_Igor.py:43\u001b[0m, in \u001b[0;36mBirthDate_feature_cleaner\u001b[0;34m(df)\u001b[0m\n\u001b[1;32m     41\u001b[0m mc \u001b[39m=\u001b[39m drop_completely_nan_rows(mc)\n\u001b[1;32m     42\u001b[0m fch \u001b[39m=\u001b[39m \u001b[39m'\u001b[39m\u001b[39mBirthDate\u001b[39m\u001b[39m'\u001b[39m \u001b[39m# Имя фичи.\u001b[39;00m\n\u001b[0;32m---> 43\u001b[0m f \u001b[39m=\u001b[39m pd\u001b[39m.\u001b[39;49mto_datetime(mc[fch], \u001b[39mformat\u001b[39;49m\u001b[39m=\u001b[39;49m\u001b[39m'\u001b[39;49m\u001b[39m%\u001b[39;49m\u001b[39mY-\u001b[39;49m\u001b[39m%\u001b[39;49m\u001b[39mm-\u001b[39;49m\u001b[39m%d\u001b[39;49;00m\u001b[39m'\u001b[39;49m)\n\u001b[1;32m     44\u001b[0m bad_rows \u001b[39m=\u001b[39m \u001b[39mlen\u001b[39m(f[f\u001b[39m.\u001b[39misna()])\n\u001b[1;32m     45\u001b[0m m \u001b[39m=\u001b[39m f\u001b[39m.\u001b[39mmode()\n",
            "File \u001b[0;32m~/anaconda3/envs/cuda_p3_9/lib/python3.9/site-packages/pandas/core/tools/datetimes.py:1108\u001b[0m, in \u001b[0;36mto_datetime\u001b[0;34m(arg, errors, dayfirst, yearfirst, utc, format, exact, unit, infer_datetime_format, origin, cache)\u001b[0m\n\u001b[1;32m   1106\u001b[0m             result \u001b[39m=\u001b[39m arg\u001b[39m.\u001b[39mtz_localize(\u001b[39m\"\u001b[39m\u001b[39mutc\u001b[39m\u001b[39m\"\u001b[39m)\n\u001b[1;32m   1107\u001b[0m \u001b[39melif\u001b[39;00m \u001b[39misinstance\u001b[39m(arg, ABCSeries):\n\u001b[0;32m-> 1108\u001b[0m     cache_array \u001b[39m=\u001b[39m _maybe_cache(arg, \u001b[39mformat\u001b[39;49m, cache, convert_listlike)\n\u001b[1;32m   1109\u001b[0m     \u001b[39mif\u001b[39;00m \u001b[39mnot\u001b[39;00m cache_array\u001b[39m.\u001b[39mempty:\n\u001b[1;32m   1110\u001b[0m         result \u001b[39m=\u001b[39m arg\u001b[39m.\u001b[39mmap(cache_array)\n",
            "File \u001b[0;32m~/anaconda3/envs/cuda_p3_9/lib/python3.9/site-packages/pandas/core/tools/datetimes.py:254\u001b[0m, in \u001b[0;36m_maybe_cache\u001b[0;34m(arg, format, cache, convert_listlike)\u001b[0m\n\u001b[1;32m    252\u001b[0m unique_dates \u001b[39m=\u001b[39m unique(arg)\n\u001b[1;32m    253\u001b[0m \u001b[39mif\u001b[39;00m \u001b[39mlen\u001b[39m(unique_dates) \u001b[39m<\u001b[39m \u001b[39mlen\u001b[39m(arg):\n\u001b[0;32m--> 254\u001b[0m     cache_dates \u001b[39m=\u001b[39m convert_listlike(unique_dates, \u001b[39mformat\u001b[39;49m)\n\u001b[1;32m    255\u001b[0m     \u001b[39m# GH#45319\u001b[39;00m\n\u001b[1;32m    256\u001b[0m     \u001b[39mtry\u001b[39;00m:\n",
            "File \u001b[0;32m~/anaconda3/envs/cuda_p3_9/lib/python3.9/site-packages/pandas/core/tools/datetimes.py:488\u001b[0m, in \u001b[0;36m_convert_listlike_datetimes\u001b[0;34m(arg, format, name, utc, unit, errors, dayfirst, yearfirst, exact)\u001b[0m\n\u001b[1;32m    486\u001b[0m \u001b[39m# `format` could be inferred, or user didn't ask for mixed-format parsing.\u001b[39;00m\n\u001b[1;32m    487\u001b[0m \u001b[39mif\u001b[39;00m \u001b[39mformat\u001b[39m \u001b[39mis\u001b[39;00m \u001b[39mnot\u001b[39;00m \u001b[39mNone\u001b[39;00m \u001b[39mand\u001b[39;00m \u001b[39mformat\u001b[39m \u001b[39m!=\u001b[39m \u001b[39m\"\u001b[39m\u001b[39mmixed\u001b[39m\u001b[39m\"\u001b[39m:\n\u001b[0;32m--> 488\u001b[0m     \u001b[39mreturn\u001b[39;00m _array_strptime_with_fallback(arg, name, utc, \u001b[39mformat\u001b[39;49m, exact, errors)\n\u001b[1;32m    490\u001b[0m result, tz_parsed \u001b[39m=\u001b[39m objects_to_datetime64ns(\n\u001b[1;32m    491\u001b[0m     arg,\n\u001b[1;32m    492\u001b[0m     dayfirst\u001b[39m=\u001b[39mdayfirst,\n\u001b[0;32m   (...)\u001b[0m\n\u001b[1;32m    496\u001b[0m     allow_object\u001b[39m=\u001b[39m\u001b[39mTrue\u001b[39;00m,\n\u001b[1;32m    497\u001b[0m )\n\u001b[1;32m    499\u001b[0m \u001b[39mif\u001b[39;00m tz_parsed \u001b[39mis\u001b[39;00m \u001b[39mnot\u001b[39;00m \u001b[39mNone\u001b[39;00m:\n\u001b[1;32m    500\u001b[0m     \u001b[39m# We can take a shortcut since the datetime64 numpy array\u001b[39;00m\n\u001b[1;32m    501\u001b[0m     \u001b[39m# is in UTC\u001b[39;00m\n",
            "File \u001b[0;32m~/anaconda3/envs/cuda_p3_9/lib/python3.9/site-packages/pandas/core/tools/datetimes.py:519\u001b[0m, in \u001b[0;36m_array_strptime_with_fallback\u001b[0;34m(arg, name, utc, fmt, exact, errors)\u001b[0m\n\u001b[1;32m    508\u001b[0m \u001b[39mdef\u001b[39;00m \u001b[39m_array_strptime_with_fallback\u001b[39m(\n\u001b[1;32m    509\u001b[0m     arg,\n\u001b[1;32m    510\u001b[0m     name,\n\u001b[0;32m   (...)\u001b[0m\n\u001b[1;32m    514\u001b[0m     errors: \u001b[39mstr\u001b[39m,\n\u001b[1;32m    515\u001b[0m ) \u001b[39m-\u001b[39m\u001b[39m>\u001b[39m Index:\n\u001b[1;32m    516\u001b[0m \u001b[39m    \u001b[39m\u001b[39m\"\"\"\u001b[39;00m\n\u001b[1;32m    517\u001b[0m \u001b[39m    Call array_strptime, with fallback behavior depending on 'errors'.\u001b[39;00m\n\u001b[1;32m    518\u001b[0m \u001b[39m    \"\"\"\u001b[39;00m\n\u001b[0;32m--> 519\u001b[0m     result, timezones \u001b[39m=\u001b[39m array_strptime(arg, fmt, exact\u001b[39m=\u001b[39;49mexact, errors\u001b[39m=\u001b[39;49merrors, utc\u001b[39m=\u001b[39;49mutc)\n\u001b[1;32m    520\u001b[0m     \u001b[39mif\u001b[39;00m \u001b[39many\u001b[39m(tz \u001b[39mis\u001b[39;00m \u001b[39mnot\u001b[39;00m \u001b[39mNone\u001b[39;00m \u001b[39mfor\u001b[39;00m tz \u001b[39min\u001b[39;00m timezones):\n\u001b[1;32m    521\u001b[0m         \u001b[39mreturn\u001b[39;00m _return_parsed_timezone_results(result, timezones, utc, name)\n",
            "File \u001b[0;32mstrptime.pyx:534\u001b[0m, in \u001b[0;36mpandas._libs.tslibs.strptime.array_strptime\u001b[0;34m()\u001b[0m\n",
            "File \u001b[0;32mstrptime.pyx:359\u001b[0m, in \u001b[0;36mpandas._libs.tslibs.strptime.array_strptime\u001b[0;34m()\u001b[0m\n",
            "\u001b[0;31mValueError\u001b[0m: unconverted data remains when parsing with format \"%Y-%m-%d\": \" 00:00:00.0000000\", at position 0. You might want to try:\n    - passing `format` if your strings have a consistent format;\n    - passing `format='ISO8601'` if your strings are all ISO8601 but not necessarily in exactly the same format;\n    - passing `format='mixed'`, and the format will be inferred for each element individually. You might want to use `dayfirst` alongside this."
          ]
        }
      ],
      "source": [
        "# Загружаю датафрейм\n",
        "df = pd.read_csv(\n",
        "    filepath_or_buffer='SF_Mandarin_dataset_ver3_csv.csv',\n",
        "    sep=';'#,\n",
        "#    index_col='SkillFactory_Id',\n",
        "#    parse_dates=['BirthDate', 'JobStartDate']\n",
        "    )\n",
        "df = drop_completely_nan_rows(df) # Пластов\n",
        "# Создаю признаки \"Возраст\" и \"Стаж работы в виде числа\" до заполнения пропусков\n",
        "# Так как столбцы с датами нужно убивать до заполнения пропусков\n",
        "\n",
        "\"\"\" Пластов\n",
        "df['Age'] = Age_feature_creator(df)\n",
        "\n",
        "df['Num_value'] = Num_value_feature_creator(df)\n",
        "\n",
        "# Убиваю столбцы с датами\n",
        "# Пластов df.drop(['BirthDate', 'JobStartDate'], axis='columns', inplace=True)\n",
        "# Создаю простые_заполнятели от SKlearn\n",
        "cat_imputer = SimpleImputer(strategy='most_frequent') # Заполнение наиболее частыми значениями для категориальных столбцов\n",
        "num_imputer = SimpleImputer(strategy='median') # Заполнение медианой для числовых столбцов\n",
        "# Ищу категориальные и числовые столбцы\n",
        "cat_columns, num_columns = cat_num_split(df)\n",
        "# Заполняю пропуски простыми заполнятелями\n",
        "df[cat_columns] = cat_imputer.fit_transform(df[cat_columns])\n",
        "df[num_columns] = num_imputer.fit_transform(df[num_columns])\n",
        "\n",
        "# Добавляю наши новые фичи, которые мы придумали\n",
        "df['Carier_Level'] = CarierLevel_feature_creator_v2(df)\n",
        "df['Payment_to_income'] = Payment_to_income(df)\n",
        "\"\"\"\n",
        "\n",
        "# Добавил Пластов  BEGIN\n",
        "df = make_features(df)\n",
        "# Добавил Пластов  END\n",
        "\n",
        "# Сбрасываю те фичи, которые участвовали в создании новых фич\n",
        "df.drop(['MonthProfit', 'MonthExpense', 'Loan_amount', 'Loan_term'], axis='columns', inplace=True)\n",
        "# Смотрим на датафрейм\n",
        "df.info()\n"
      ]
    },
    {
      "cell_type": "markdown",
      "metadata": {
        "id": "4WH3CiylFejS"
      },
      "source": [
        "## CatBoost\n"
      ]
    },
    {
      "cell_type": "code",
      "execution_count": null,
      "metadata": {
        "colab": {
          "base_uri": "https://localhost:8080/",
          "height": 758
        },
        "id": "i-_SX5YnFcgV",
        "outputId": "e4e57788-2cff-43ea-976e-7df8a0cd5f49"
      },
      "outputs": [
        {
          "name": "stdout",
          "output_type": "stream",
          "text": [
            "categorical columns:\t  ['BirthDate', 'education', 'employment status', 'Value', 'JobStartDate', 'Position', 'Family status', 'Goods_category', 'JobStartDate_feature_cleaner', 'CarierLevel_feature_creator_v2'] \n",
            " len =  10\n",
            "numerical columns:\t  ['SkillFactory_Id', 'Gender', 'ChildCount', 'SNILS', 'Merch_code', 'Value_feature_cleaner', 'education_feature_cleaner', 'employment_status_feature_cleaner', 'CarierLevelDig_feature_creator', 'CarierVelocity_feature_creator'] \n",
            " len =  10\n"
          ]
        },
        {
          "ename": "TypeError",
          "evalue": "must be real number, not datetime.date",
          "output_type": "error",
          "traceback": [
            "\u001b[0;31m---------------------------------------------------------------------------\u001b[0m",
            "\u001b[0;31mTypeError\u001b[0m                                 Traceback (most recent call last)",
            "\u001b[1;32m/home/igor/Plastov/hakaton_november_2023/Copy_of_XAKATOH.ipynb Cell 126\u001b[0m line \u001b[0;36m2\n\u001b[1;32m     <a href='vscode-notebook-cell:/home/igor/Plastov/hakaton_november_2023/Copy_of_XAKATOH.ipynb#Y236sZmlsZQ%3D%3D?line=16'>17</a>\u001b[0m cat_features, _ \u001b[39m=\u001b[39m cat_num_split(X)\n\u001b[1;32m     <a href='vscode-notebook-cell:/home/igor/Plastov/hakaton_november_2023/Copy_of_XAKATOH.ipynb#Y236sZmlsZQ%3D%3D?line=18'>19</a>\u001b[0m \u001b[39m# Готовим Pool для Catboost\u001b[39;00m\n\u001b[0;32m---> <a href='vscode-notebook-cell:/home/igor/Plastov/hakaton_november_2023/Copy_of_XAKATOH.ipynb#Y236sZmlsZQ%3D%3D?line=19'>20</a>\u001b[0m train_data \u001b[39m=\u001b[39m Pool(\n\u001b[1;32m     <a href='vscode-notebook-cell:/home/igor/Plastov/hakaton_november_2023/Copy_of_XAKATOH.ipynb#Y236sZmlsZQ%3D%3D?line=20'>21</a>\u001b[0m     data\u001b[39m=\u001b[39;49mX_train,\n\u001b[1;32m     <a href='vscode-notebook-cell:/home/igor/Plastov/hakaton_november_2023/Copy_of_XAKATOH.ipynb#Y236sZmlsZQ%3D%3D?line=21'>22</a>\u001b[0m     label\u001b[39m=\u001b[39;49my_train,\n\u001b[1;32m     <a href='vscode-notebook-cell:/home/igor/Plastov/hakaton_november_2023/Copy_of_XAKATOH.ipynb#Y236sZmlsZQ%3D%3D?line=22'>23</a>\u001b[0m     cat_features\u001b[39m=\u001b[39;49mcat_features,\n\u001b[1;32m     <a href='vscode-notebook-cell:/home/igor/Plastov/hakaton_november_2023/Copy_of_XAKATOH.ipynb#Y236sZmlsZQ%3D%3D?line=23'>24</a>\u001b[0m     feature_names\u001b[39m=\u001b[39;49mfeatures_names\n\u001b[1;32m     <a href='vscode-notebook-cell:/home/igor/Plastov/hakaton_november_2023/Copy_of_XAKATOH.ipynb#Y236sZmlsZQ%3D%3D?line=24'>25</a>\u001b[0m )\n\u001b[1;32m     <a href='vscode-notebook-cell:/home/igor/Plastov/hakaton_november_2023/Copy_of_XAKATOH.ipynb#Y236sZmlsZQ%3D%3D?line=25'>26</a>\u001b[0m eval_data \u001b[39m=\u001b[39m Pool(\n\u001b[1;32m     <a href='vscode-notebook-cell:/home/igor/Plastov/hakaton_november_2023/Copy_of_XAKATOH.ipynb#Y236sZmlsZQ%3D%3D?line=26'>27</a>\u001b[0m     data\u001b[39m=\u001b[39mX_test,\n\u001b[1;32m     <a href='vscode-notebook-cell:/home/igor/Plastov/hakaton_november_2023/Copy_of_XAKATOH.ipynb#Y236sZmlsZQ%3D%3D?line=27'>28</a>\u001b[0m     label\u001b[39m=\u001b[39my_test,\n\u001b[1;32m     <a href='vscode-notebook-cell:/home/igor/Plastov/hakaton_november_2023/Copy_of_XAKATOH.ipynb#Y236sZmlsZQ%3D%3D?line=28'>29</a>\u001b[0m     cat_features\u001b[39m=\u001b[39mcat_features,\n\u001b[1;32m     <a href='vscode-notebook-cell:/home/igor/Plastov/hakaton_november_2023/Copy_of_XAKATOH.ipynb#Y236sZmlsZQ%3D%3D?line=29'>30</a>\u001b[0m     feature_names\u001b[39m=\u001b[39mfeatures_names\n\u001b[1;32m     <a href='vscode-notebook-cell:/home/igor/Plastov/hakaton_november_2023/Copy_of_XAKATOH.ipynb#Y236sZmlsZQ%3D%3D?line=30'>31</a>\u001b[0m )\n\u001b[1;32m     <a href='vscode-notebook-cell:/home/igor/Plastov/hakaton_november_2023/Copy_of_XAKATOH.ipynb#Y236sZmlsZQ%3D%3D?line=32'>33</a>\u001b[0m model \u001b[39m=\u001b[39m CatBoostClassifier()\n",
            "File \u001b[0;32m~/anaconda3/envs/cuda_p3_9/lib/python3.9/site-packages/catboost/core.py:792\u001b[0m, in \u001b[0;36mPool.__init__\u001b[0;34m(self, data, label, cat_features, text_features, embedding_features, embedding_features_data, column_description, pairs, delimiter, has_header, ignore_csv_quoting, weight, group_id, group_weight, subgroup_id, pairs_weight, baseline, timestamp, feature_names, feature_tags, thread_count, log_cout, log_cerr)\u001b[0m\n\u001b[1;32m    786\u001b[0m         \u001b[39mif\u001b[39;00m \u001b[39misinstance\u001b[39m(feature_names, PATH_TYPES):\n\u001b[1;32m    787\u001b[0m             \u001b[39mraise\u001b[39;00m CatBoostError(\n\u001b[1;32m    788\u001b[0m                 \u001b[39m\"\u001b[39m\u001b[39mfeature_names must be None or have non-string type when the pool is created from \u001b[39m\u001b[39m\"\u001b[39m\n\u001b[1;32m    789\u001b[0m                 \u001b[39m\"\u001b[39m\u001b[39mpython objects.\u001b[39m\u001b[39m\"\u001b[39m\n\u001b[1;32m    790\u001b[0m             )\n\u001b[0;32m--> 792\u001b[0m         \u001b[39mself\u001b[39;49m\u001b[39m.\u001b[39;49m_init(data, label, cat_features, text_features, embedding_features, embedding_features_data, pairs, weight,\n\u001b[1;32m    793\u001b[0m                    group_id, group_weight, subgroup_id, pairs_weight, baseline, timestamp, feature_names, feature_tags, thread_count)\n\u001b[1;32m    794\u001b[0m \u001b[39msuper\u001b[39m(Pool, \u001b[39mself\u001b[39m)\u001b[39m.\u001b[39m\u001b[39m__init__\u001b[39m()\n",
            "File \u001b[0;32m~/anaconda3/envs/cuda_p3_9/lib/python3.9/site-packages/catboost/core.py:1419\u001b[0m, in \u001b[0;36mPool._init\u001b[0;34m(self, data, label, cat_features, text_features, embedding_features, embedding_features_data, pairs, weight, group_id, group_weight, subgroup_id, pairs_weight, baseline, timestamp, feature_names, feature_tags, thread_count)\u001b[0m\n\u001b[1;32m   1417\u001b[0m \u001b[39mif\u001b[39;00m feature_tags \u001b[39mis\u001b[39;00m \u001b[39mnot\u001b[39;00m \u001b[39mNone\u001b[39;00m:\n\u001b[1;32m   1418\u001b[0m     feature_tags \u001b[39m=\u001b[39m \u001b[39mself\u001b[39m\u001b[39m.\u001b[39m_check_transform_tags(feature_tags, feature_names)\n\u001b[0;32m-> 1419\u001b[0m \u001b[39mself\u001b[39;49m\u001b[39m.\u001b[39;49m_init_pool(data, label, cat_features, text_features, embedding_features, embedding_features_data, pairs, weight,\n\u001b[1;32m   1420\u001b[0m                 group_id, group_weight, subgroup_id, pairs_weight, baseline, timestamp, feature_names, feature_tags, thread_count)\n",
            "File \u001b[0;32m_catboost.pyx:3955\u001b[0m, in \u001b[0;36m_catboost._PoolBase._init_pool\u001b[0;34m()\u001b[0m\n",
            "File \u001b[0;32m_catboost.pyx:4005\u001b[0m, in \u001b[0;36m_catboost._PoolBase._init_pool\u001b[0;34m()\u001b[0m\n",
            "File \u001b[0;32m_catboost.pyx:3821\u001b[0m, in \u001b[0;36m_catboost._PoolBase._init_features_order_layout_pool\u001b[0;34m()\u001b[0m\n",
            "File \u001b[0;32m_catboost.pyx:2760\u001b[0m, in \u001b[0;36m_catboost._set_features_order_data_pd_data_frame\u001b[0;34m()\u001b[0m\n",
            "File \u001b[0;32m_catboost.pyx:2351\u001b[0m, in \u001b[0;36m_catboost.get_cat_factor_bytes_representation\u001b[0;34m()\u001b[0m\n",
            "File \u001b[0;32m_catboost.pyx:1878\u001b[0m, in \u001b[0;36m_catboost.get_id_object_bytes_string_representation\u001b[0;34m()\u001b[0m\n",
            "\u001b[0;31mTypeError\u001b[0m: must be real number, not datetime.date"
          ]
        }
      ],
      "source": [
        "# Целевые переменные\n",
        "banks = ['BankA_decision',\n",
        "        'BankB_decision',\n",
        "        'BankC_decision',\n",
        "        'BankD_decision',\n",
        "        'BankE_decision']\n",
        "\n",
        "X = df.drop(banks, axis=1)\n",
        "y = df[banks[0]]\n",
        "\n",
        "features_names = list(X.columns)\n",
        "\n",
        "X_train, X_test, y_train, y_test = train_test_split(X,\n",
        "                                                    y,\n",
        "                                                    test_size=0.33,\n",
        "                                                    random_state=42)\n",
        "cat_features, _ = cat_num_split(X)\n",
        "\n",
        "# Готовим Pool для Catboost\n",
        "train_data = Pool(\n",
        "    data=X_train,\n",
        "    label=y_train,\n",
        "    cat_features=cat_features,\n",
        "    feature_names=features_names\n",
        ")\n",
        "eval_data = Pool(\n",
        "    data=X_test,\n",
        "    label=y_test,\n",
        "    cat_features=cat_features,\n",
        "    feature_names=features_names\n",
        ")\n",
        "\n",
        "model = CatBoostClassifier()\n",
        "\n",
        "\n",
        "model.fit(X=train_data, eval_set=eval_data)\n",
        "\n",
        "\n",
        "ftr_imp = model.feature_importances_/np.sum(model.feature_importances_)\n",
        "sorted = np.argsort(ftr_imp)\n",
        "ypos = np.arange(len(np.array(features_names)))\n",
        "fig = plt.figure(figsize=(8, 8))\n",
        "plt.barh(ypos, ftr_imp[sorted])\n",
        "plt.xlim([0, 1])\n",
        "plt.title('Распределение весов входных параметров')\n",
        "plt.ylabel('Параметры')\n",
        "plt.xlabel('Значимость')\n",
        "plt.yticks(ypos, np.array(features_names)[sorted]);\n",
        "plt.show()"
      ]
    },
    {
      "cell_type": "markdown",
      "metadata": {
        "id": "YKCnWaGSZNGG"
      },
      "source": [
        "## Таблица корреляции (используются все созданные выше функции добавления новых признаков)"
      ]
    },
    {
      "cell_type": "code",
      "execution_count": null,
      "metadata": {
        "id": "xrs80wCdZVYU"
      },
      "outputs": [],
      "source": [
        "# Загружаю датафрейм\n",
        "df = pd.read_csv(\n",
        "    filepath_or_buffer='SF_Mandarin_dataset_ver3_1.csv',\n",
        "    sep=';',\n",
        "    index_col='SkillFactory_Id',\n",
        "    parse_dates=['BirthDate', 'JobStartDate']\n",
        "    )\n",
        "df.dropna(inplace=True) # и сказка пропадет\n",
        "# Создаю признаки \"Возраст\" и \"Стаж работы в виде числа\" до заполнения пропусков\n",
        "# Так как столбцы с датами нужно убивать до заполнения пропусков\n",
        "df['Age'] = Age_feature_creator(df)\n",
        "df['Num_value'] = Num_value_feature_creator(df)\n",
        "df['Day_of_birth'] = df['BirthDate'].dt.dayofyear\n",
        "df['Month_of_birth'] = df['BirthDate'].dt.month\n",
        "df['Carier_Level'] = CarierLevel_feature_creator_v2(df)\n",
        "df['CarierLevelDig_feature_creator'] = CarierLevelDig_feature_creator(df)\n",
        "df['CarierVelocity_feature_creator'] = CarierVelocity_feature_creator(df)\n",
        "\n",
        "# Убиваю столбцы с датами\n",
        "df.drop(['BirthDate', 'JobStartDate'], axis='columns', inplace=True)\n",
        "# Создаю простые_заполнятели от SKlearn\n",
        "cat_imputer = SimpleImputer(strategy='most_frequent') # Заполнение наиболее частыми значениями для категориальных столбцов\n",
        "num_imputer = SimpleImputer(strategy='median') # Заполнение медианой для числовых столбцов\n",
        "# Перекодируем большинство категориальных признаков в числовые через cat.codes\n",
        "df['BankA_decision'] = df['BankA_decision'].astype('category').cat.codes\n",
        "df['BankB_decision'] = df['BankB_decision'].astype('category').cat.codes\n",
        "df['BankC_decision'] = df['BankC_decision'].astype('category').cat.codes\n",
        "df['BankD_decision'] = df['BankD_decision'].astype('category').cat.codes\n",
        "df['BankE_decision'] = df['BankE_decision'].astype('category').cat.codes\n",
        "grade = {'Неоконченное среднее': 0,\n",
        "         'Среднее': 1,\n",
        "         'Среднее профессиональное': 2,\n",
        "         'Неоконченное высшее': 3,\n",
        "         'Бакалавр': 4,\n",
        "         'Высшее - специалист': 5,\n",
        "         'Магистр': 6,\n",
        "         'Несколько высших': 7,\n",
        "         'MBA': 8,\n",
        "         'Ученая степень': 9\n",
        "         }\n",
        "df['education'] = df['education'].astype('category').cat.rename_categories(grade)\n",
        "df['Goods_category'] = df['Goods_category'].astype('category').cat.codes\n",
        "df['Family status'] = df['Family status'].astype('category').cat.codes\n",
        "df['employment status'] = df['employment status'].astype('category').cat.codes\n",
        "#df['Value'] = df['Value'].astype('category').cat.codes\n",
        "\n",
        "cat_columns, num_columns = cat_num_split(df)\n",
        "# Заполняю пропуски простыми заполнятелями\n",
        "df[cat_columns] = cat_imputer.fit_transform(df[cat_columns])\n",
        "df[num_columns] = num_imputer.fit_transform(df[num_columns])\n",
        "#\n",
        "df['Payment_to_income'] = Payment_to_income(df)\n",
        "\n",
        "\n",
        "corr = df[num_columns].corr()\n",
        "corr.style.background_gradient(cmap='coolwarm')"
      ]
    },
    {
      "cell_type": "code",
      "execution_count": null,
      "metadata": {
        "id": "ke5Lt9T7yjQ_"
      },
      "outputs": [],
      "source": []
    }
  ],
  "metadata": {
    "colab": {
      "provenance": []
    },
    "kernelspec": {
      "display_name": "Python 3",
      "language": "python",
      "name": "python3"
    },
    "language_info": {
      "codemirror_mode": {
        "name": "ipython",
        "version": 3
      },
      "file_extension": ".py",
      "mimetype": "text/x-python",
      "name": "python",
      "nbconvert_exporter": "python",
      "pygments_lexer": "ipython3",
      "version": "3.9.18"
    }
  },
  "nbformat": 4,
  "nbformat_minor": 0
}
