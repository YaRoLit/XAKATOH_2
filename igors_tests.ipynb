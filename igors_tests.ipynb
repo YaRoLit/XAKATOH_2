{
  "cells": [
    {
      "cell_type": "markdown",
      "metadata": {},
      "source": [
        "ED"
      ]
    },
    {
      "cell_type": "markdown",
      "metadata": {
        "id": "47pVZEzCD-O_"
      },
      "source": [
        "# Импорты"
      ]
    },
    {
      "cell_type": "code",
      "execution_count": 38,
      "metadata": {
        "colab": {
          "base_uri": "https://localhost:8080/"
        },
        "id": "soysK04C3Zn1",
        "outputId": "6b4d7536-d7b1-4c81-d2e3-b3b30205ed84"
      },
      "outputs": [],
      "source": [
        "# !pip install catboost"
      ]
    },
    {
      "cell_type": "code",
      "execution_count": 39,
      "metadata": {
        "id": "BzN_NVAED-PA"
      },
      "outputs": [],
      "source": [
        "import pandas as pd\n",
        "import numpy as np\n",
        "\n",
        "import sys \n",
        "import os\n",
        "sys.path.append(os.path.abspath(\"Data_preproc\"))\n",
        "from pos_prepr_by_Igor import *"
      ]
    },
    {
      "cell_type": "markdown",
      "metadata": {
        "id": "jvCcNpiDD-PB"
      },
      "source": [
        "# Загрузка датасета"
      ]
    },
    {
      "cell_type": "code",
      "execution_count": 40,
      "metadata": {
        "id": "AeZQNs0qD-PC"
      },
      "outputs": [],
      "source": [
        "df = pd.read_csv(\n",
        "    filepath_or_buffer='SF_Mandarin_dataset_ver3_csv.csv',\n",
        "    sep=';',\n",
        "    index_col='SkillFactory_Id',\n",
        "    parse_dates=['BirthDate', 'JobStartDate'])"
      ]
    },
    {
      "cell_type": "code",
      "execution_count": 41,
      "metadata": {
        "colab": {
          "base_uri": "https://localhost:8080/",
          "height": 616
        },
        "id": "97MShfm3D-PD",
        "outputId": "513d45d9-e831-4486-b088-335b7d8d04e0"
      },
      "outputs": [
        {
          "data": {
            "text/html": [
              "<div>\n",
              "<style scoped>\n",
              "    .dataframe tbody tr th:only-of-type {\n",
              "        vertical-align: middle;\n",
              "    }\n",
              "\n",
              "    .dataframe tbody tr th {\n",
              "        vertical-align: top;\n",
              "    }\n",
              "\n",
              "    .dataframe thead th {\n",
              "        text-align: right;\n",
              "    }\n",
              "</style>\n",
              "<table border=\"1\" class=\"dataframe\">\n",
              "  <thead>\n",
              "    <tr style=\"text-align: right;\">\n",
              "      <th></th>\n",
              "      <th>BirthDate</th>\n",
              "      <th>education</th>\n",
              "      <th>employment status</th>\n",
              "      <th>Value</th>\n",
              "      <th>JobStartDate</th>\n",
              "      <th>Position</th>\n",
              "      <th>MonthProfit</th>\n",
              "      <th>MonthExpense</th>\n",
              "      <th>Gender</th>\n",
              "      <th>Family status</th>\n",
              "      <th>...</th>\n",
              "      <th>SNILS</th>\n",
              "      <th>BankA_decision</th>\n",
              "      <th>BankB_decision</th>\n",
              "      <th>BankC_decision</th>\n",
              "      <th>BankD_decision</th>\n",
              "      <th>BankE_decision</th>\n",
              "      <th>Merch_code</th>\n",
              "      <th>Loan_amount</th>\n",
              "      <th>Loan_term</th>\n",
              "      <th>Goods_category</th>\n",
              "    </tr>\n",
              "    <tr>\n",
              "      <th>SkillFactory_Id</th>\n",
              "      <th></th>\n",
              "      <th></th>\n",
              "      <th></th>\n",
              "      <th></th>\n",
              "      <th></th>\n",
              "      <th></th>\n",
              "      <th></th>\n",
              "      <th></th>\n",
              "      <th></th>\n",
              "      <th></th>\n",
              "      <th></th>\n",
              "      <th></th>\n",
              "      <th></th>\n",
              "      <th></th>\n",
              "      <th></th>\n",
              "      <th></th>\n",
              "      <th></th>\n",
              "      <th></th>\n",
              "      <th></th>\n",
              "      <th></th>\n",
              "      <th></th>\n",
              "    </tr>\n",
              "  </thead>\n",
              "  <tbody>\n",
              "    <tr>\n",
              "      <th>1.0</th>\n",
              "      <td>1988-07-21</td>\n",
              "      <td>Высшее - специалист</td>\n",
              "      <td>Работаю по найму полный рабочий день/служу</td>\n",
              "      <td>9 - 10 лет</td>\n",
              "      <td>2013-09-01</td>\n",
              "      <td>начальник п</td>\n",
              "      <td>180000.0</td>\n",
              "      <td>90000.0</td>\n",
              "      <td>0.0</td>\n",
              "      <td>Никогда в браке не состоял(а)</td>\n",
              "      <td>...</td>\n",
              "      <td>0.0</td>\n",
              "      <td>success</td>\n",
              "      <td>success</td>\n",
              "      <td>success</td>\n",
              "      <td>success</td>\n",
              "      <td>denied</td>\n",
              "      <td>77.0</td>\n",
              "      <td>137000.0</td>\n",
              "      <td>18.0</td>\n",
              "      <td>Furniture</td>\n",
              "    </tr>\n",
              "    <tr>\n",
              "      <th>2.0</th>\n",
              "      <td>1998-01-16</td>\n",
              "      <td>Высшее - специалист</td>\n",
              "      <td>Собственное дело</td>\n",
              "      <td>1 - 2 года</td>\n",
              "      <td>2022-12-01</td>\n",
              "      <td>директор</td>\n",
              "      <td>200000.0</td>\n",
              "      <td>60000.0</td>\n",
              "      <td>0.0</td>\n",
              "      <td>Никогда в браке не состоял(а)</td>\n",
              "      <td>...</td>\n",
              "      <td>0.0</td>\n",
              "      <td>success</td>\n",
              "      <td>denied</td>\n",
              "      <td>success</td>\n",
              "      <td>denied</td>\n",
              "      <td>success</td>\n",
              "      <td>27.0</td>\n",
              "      <td>33000.0</td>\n",
              "      <td>6.0</td>\n",
              "      <td>Fitness</td>\n",
              "    </tr>\n",
              "    <tr>\n",
              "      <th>3.0</th>\n",
              "      <td>1972-10-02</td>\n",
              "      <td>Высшее - специалист</td>\n",
              "      <td>Работаю по найму полный рабочий день/служу</td>\n",
              "      <td>10 и более лет</td>\n",
              "      <td>2005-12-01</td>\n",
              "      <td>ДИРЕКТОР</td>\n",
              "      <td>300000.0</td>\n",
              "      <td>45000.0</td>\n",
              "      <td>1.0</td>\n",
              "      <td>Никогда в браке не состоял(а)</td>\n",
              "      <td>...</td>\n",
              "      <td>0.0</td>\n",
              "      <td>denied</td>\n",
              "      <td>denied</td>\n",
              "      <td>success</td>\n",
              "      <td>success</td>\n",
              "      <td>success</td>\n",
              "      <td>19.0</td>\n",
              "      <td>165000.0</td>\n",
              "      <td>24.0</td>\n",
              "      <td>Medical_services</td>\n",
              "    </tr>\n",
              "    <tr>\n",
              "      <th>4.0</th>\n",
              "      <td>1972-10-02</td>\n",
              "      <td>Высшее - специалист</td>\n",
              "      <td>Работаю по найму полный рабочий день/служу</td>\n",
              "      <td>10 и более лет</td>\n",
              "      <td>2005-12-01</td>\n",
              "      <td>ДИРЕКТОР</td>\n",
              "      <td>300000.0</td>\n",
              "      <td>45000.0</td>\n",
              "      <td>1.0</td>\n",
              "      <td>Никогда в браке не состоял(а)</td>\n",
              "      <td>...</td>\n",
              "      <td>0.0</td>\n",
              "      <td>success</td>\n",
              "      <td>denied</td>\n",
              "      <td>success</td>\n",
              "      <td>success</td>\n",
              "      <td>success</td>\n",
              "      <td>34.0</td>\n",
              "      <td>67000.0</td>\n",
              "      <td>12.0</td>\n",
              "      <td>Education</td>\n",
              "    </tr>\n",
              "    <tr>\n",
              "      <th>5.0</th>\n",
              "      <td>1972-10-02</td>\n",
              "      <td>Высшее - специалист</td>\n",
              "      <td>Работаю по найму полный рабочий день/служу</td>\n",
              "      <td>10 и более лет</td>\n",
              "      <td>2005-12-01</td>\n",
              "      <td>ДИРЕКТОР</td>\n",
              "      <td>300000.0</td>\n",
              "      <td>45000.0</td>\n",
              "      <td>1.0</td>\n",
              "      <td>Никогда в браке не состоял(а)</td>\n",
              "      <td>...</td>\n",
              "      <td>0.0</td>\n",
              "      <td>success</td>\n",
              "      <td>denied</td>\n",
              "      <td>success</td>\n",
              "      <td>success</td>\n",
              "      <td>success</td>\n",
              "      <td>75.0</td>\n",
              "      <td>36000.0</td>\n",
              "      <td>6.0</td>\n",
              "      <td>Furniture</td>\n",
              "    </tr>\n",
              "  </tbody>\n",
              "</table>\n",
              "<p>5 rows × 21 columns</p>\n",
              "</div>"
            ],
            "text/plain": [
              "                 BirthDate            education  \\\n",
              "SkillFactory_Id                                   \n",
              "1.0             1988-07-21  Высшее - специалист   \n",
              "2.0             1998-01-16  Высшее - специалист   \n",
              "3.0             1972-10-02  Высшее - специалист   \n",
              "4.0             1972-10-02  Высшее - специалист   \n",
              "5.0             1972-10-02  Высшее - специалист   \n",
              "\n",
              "                                          employment status           Value  \\\n",
              "SkillFactory_Id                                                               \n",
              "1.0              Работаю по найму полный рабочий день/служу      9 - 10 лет   \n",
              "2.0                                        Собственное дело      1 - 2 года   \n",
              "3.0              Работаю по найму полный рабочий день/служу  10 и более лет   \n",
              "4.0              Работаю по найму полный рабочий день/служу  10 и более лет   \n",
              "5.0              Работаю по найму полный рабочий день/служу  10 и более лет   \n",
              "\n",
              "                JobStartDate     Position  MonthProfit  MonthExpense  Gender  \\\n",
              "SkillFactory_Id                                                                \n",
              "1.0               2013-09-01  начальник п     180000.0       90000.0     0.0   \n",
              "2.0               2022-12-01     директор     200000.0       60000.0     0.0   \n",
              "3.0               2005-12-01     ДИРЕКТОР     300000.0       45000.0     1.0   \n",
              "4.0               2005-12-01     ДИРЕКТОР     300000.0       45000.0     1.0   \n",
              "5.0               2005-12-01     ДИРЕКТОР     300000.0       45000.0     1.0   \n",
              "\n",
              "                                 Family status  ...  SNILS  BankA_decision  \\\n",
              "SkillFactory_Id                                 ...                          \n",
              "1.0              Никогда в браке не состоял(а)  ...    0.0         success   \n",
              "2.0              Никогда в браке не состоял(а)  ...    0.0         success   \n",
              "3.0              Никогда в браке не состоял(а)  ...    0.0          denied   \n",
              "4.0              Никогда в браке не состоял(а)  ...    0.0         success   \n",
              "5.0              Никогда в браке не состоял(а)  ...    0.0         success   \n",
              "\n",
              "                BankB_decision BankC_decision BankD_decision BankE_decision  \\\n",
              "SkillFactory_Id                                                               \n",
              "1.0                    success        success        success         denied   \n",
              "2.0                     denied        success         denied        success   \n",
              "3.0                     denied        success        success        success   \n",
              "4.0                     denied        success        success        success   \n",
              "5.0                     denied        success        success        success   \n",
              "\n",
              "                Merch_code  Loan_amount  Loan_term    Goods_category  \n",
              "SkillFactory_Id                                                       \n",
              "1.0                   77.0     137000.0       18.0         Furniture  \n",
              "2.0                   27.0      33000.0        6.0           Fitness  \n",
              "3.0                   19.0     165000.0       24.0  Medical_services  \n",
              "4.0                   34.0      67000.0       12.0         Education  \n",
              "5.0                   75.0      36000.0        6.0         Furniture  \n",
              "\n",
              "[5 rows x 21 columns]"
            ]
          },
          "execution_count": 41,
          "metadata": {},
          "output_type": "execute_result"
        }
      ],
      "source": [
        "df.head(5)"
      ]
    },
    {
      "cell_type": "code",
      "execution_count": 42,
      "metadata": {
        "colab": {
          "base_uri": "https://localhost:8080/"
        },
        "id": "5bY7JaQID-PD",
        "outputId": "22b2ef36-0604-4110-8cb8-c73014e14ebc"
      },
      "outputs": [
        {
          "name": "stdout",
          "output_type": "stream",
          "text": [
            "<class 'pandas.core.frame.DataFrame'>\n",
            "Index: 8787 entries, 1.0 to nan\n",
            "Data columns (total 21 columns):\n",
            " #   Column             Non-Null Count  Dtype         \n",
            "---  ------             --------------  -----         \n",
            " 0   BirthDate          6603 non-null   datetime64[ns]\n",
            " 1   education          6603 non-null   object        \n",
            " 2   employment status  6603 non-null   object        \n",
            " 3   Value              6523 non-null   object        \n",
            " 4   JobStartDate       6494 non-null   datetime64[ns]\n",
            " 5   Position           6494 non-null   object        \n",
            " 6   MonthProfit        6603 non-null   float64       \n",
            " 7   MonthExpense       6603 non-null   float64       \n",
            " 8   Gender             6566 non-null   float64       \n",
            " 9   Family status      6566 non-null   object        \n",
            " 10  ChildCount         6566 non-null   float64       \n",
            " 11  SNILS              6603 non-null   float64       \n",
            " 12  BankA_decision     6603 non-null   object        \n",
            " 13  BankB_decision     6603 non-null   object        \n",
            " 14  BankC_decision     6603 non-null   object        \n",
            " 15  BankD_decision     6603 non-null   object        \n",
            " 16  BankE_decision     6603 non-null   object        \n",
            " 17  Merch_code         6603 non-null   float64       \n",
            " 18  Loan_amount        6603 non-null   float64       \n",
            " 19  Loan_term          6603 non-null   float64       \n",
            " 20  Goods_category     6603 non-null   object        \n",
            "dtypes: datetime64[ns](2), float64(8), object(11)\n",
            "memory usage: 1.5+ MB\n"
          ]
        }
      ],
      "source": [
        "df.info()"
      ]
    },
    {
      "cell_type": "markdown",
      "metadata": {
        "id": "8FE3h7veD-PE"
      },
      "source": [
        "# Работа со столбцами"
      ]
    },
    {
      "cell_type": "markdown",
      "metadata": {
        "id": "OwtaPPUucoPg"
      },
      "source": [
        "### Обработка признаков BirthDate, education,<br>employment status, Value, JobStartDate<br>(И.Пластов, А.Крупский)\n",
        "- BirthDate\n",
        "-\teducation\n",
        "- employment status\n",
        "- Value\n",
        "- JobStartDate"
      ]
    },
    {
      "cell_type": "code",
      "execution_count": 43,
      "metadata": {},
      "outputs": [],
      "source": [
        "#df['SkillFactory_Id'] = df['SkillFactory_Id'].astype(int)\n",
        "#df[df['SkillFactory_Id'].isna()]"
      ]
    },
    {
      "cell_type": "markdown",
      "metadata": {
        "id": "JtNg-psSdFI4"
      },
      "source": [
        "#### Очистка признаков от пропусков *BirthDate*"
      ]
    },
    {
      "cell_type": "code",
      "execution_count": 44,
      "metadata": {},
      "outputs": [
        {
          "name": "stdout",
          "output_type": "stream",
          "text": [
            "Mode = 0   1998-04-23\n",
            "Name: BirthDate, dtype: datetime64[ns]\n",
            "Количество nan в фиче <BirthDate>: 0 штук.\n",
            "Фича <BirthDate> не содержит пропусков.\n",
            "Количество nan в фиче <education>: 0 штук.\n",
            "Фича <education> не содержит пропусков.\n",
            "Исходное количество nan в фиче <employment status>: 0 штук.\n",
            "Устранено: 0 штук.\n",
            "Фича <employment status> не содержит пропусков.\n",
            "Исходное количество nan в фиче <Value>: 80 штук.\n",
            "Устранено: 0 штук.\n",
            "<class 'pandas.core.series.Series'>\n",
            "Исходное количество nan в фиче <JobStartDate>: 109 штук.\n",
            "Устранено: 109 штук.\n",
            "Фича <JobStartDate> не содержит пропусков.\n"
          ]
        }
      ],
      "source": [
        "df = clean_features(df)"
      ]
    },
    {
      "cell_type": "code",
      "execution_count": 45,
      "metadata": {},
      "outputs": [
        {
          "name": "stdout",
          "output_type": "stream",
          "text": [
            "Количество nan в фиче <education>: 0 штук.\n",
            "Фича <education> не содержит пропусков.\n",
            "Легенда по которой выполняется оцифровка уровня образования:\n",
            " {'высшее - специалист': 0.6, 'среднее профессиональное': 0.3, 'среднее': 0.2, 'неоконченное высшее': 0.4, 'бакалавр': 0.5, 'несколько высших': 0.8, 'магистр': 0.7, 'неоконченное среднее': 0.1, 'mba': 0.7, 'ученая степень': 1.0}\n",
            "Количество nan в фиче <education>: 0 штук.\n",
            "Фича <education> не содержит пропусков.\n",
            "Исходное количество nan в фиче <employment status>: 0 штук.\n",
            "Устранено: 0 штук.\n",
            "Фича <employment status> не содержит пропусков.\n",
            "Легенда по которой выполняется оцифровка уровня занятости:\n",
            " {'работаю по найму полный рабочий день/служу': 1.0, 'собственное дело': 1.0, 'не работаю': 0.001, 'работаю по найму неполный рабочий день': 0.5, 'студент': 0.001, 'декретный отпуск': 0.001, 'пенсионер': 0.001}\n",
            "Исходное количество nan в фиче <Value>: 80 штук.\n",
            "Устранено: 0 штук.\n",
            "Легенда по которой выполняется оцифровка трудового стажа:\n",
            " {'10 и более лет': 1.0, '3 - 4 года': 0.35, '2 - 3 года': 0.25, '4 - 5 лет': 0.45, '5 - 6 лет': 0.55, '1 - 2 года': 0.15, '6 - 7 лет': 0.65, '7 - 8 лет': 0.75, '8 - 9 лет': 0.85, '6 месяцев - 1 год': 0.075, '9 - 10 лет': 0.95, '4 - 6 месяцев': 0.042, 'менее 4 месяцев': 0.017}\n"
          ]
        },
        {
          "name": "stdout",
          "output_type": "stream",
          "text": [
            "Исходное количество nan в фиче <Value>: 80 штук.\n",
            "Устранено: 0 штук.\n",
            "Легенда по которой выполняется оцифровка трудового стажа:\n",
            " {'10 и более лет': 1.0, '3 - 4 года': 0.35, '2 - 3 года': 0.25, '4 - 5 лет': 0.45, '5 - 6 лет': 0.55, '1 - 2 года': 0.15, '6 - 7 лет': 0.65, '7 - 8 лет': 0.75, '8 - 9 лет': 0.85, '6 месяцев - 1 год': 0.075, '9 - 10 лет': 0.95, '4 - 6 месяцев': 0.042, 'менее 4 месяцев': 0.017}\n",
            "Mode = 0   1998-04-23\n",
            "Name: BirthDate, dtype: datetime64[ns]\n",
            "Количество nan в фиче <BirthDate>: 0 штук.\n",
            "Фича <BirthDate> не содержит пропусков.\n",
            "Количество nan в фиче <BirthDate>: 0 штук.\n",
            "Фича <BirthDate> не содержит пропусков.\n"
          ]
        }
      ],
      "source": [
        "df = make_features(df)"
      ]
    },
    {
      "cell_type": "code",
      "execution_count": 46,
      "metadata": {
        "id": "5PJ9-Mroxk_W"
      },
      "outputs": [],
      "source": [
        "def Monthly_credit_payment(\n",
        "    df: pd.DataFrame,\n",
        "    ) -> pd.Series:\n",
        "    '''Создаем функцию расчета ежемесячного платёжа'''\n",
        "    df = df.copy()\n",
        "\n",
        "    return df['Loan_amount'] // df['Loan_term']"
      ]
    },
    {
      "cell_type": "code",
      "execution_count": 47,
      "metadata": {
        "id": "0irPIRzPx3Hv"
      },
      "outputs": [],
      "source": [
        "def Payment_to_income(\n",
        "    df: pd.DataFrame,\n",
        "    ) -> pd.Series:\n",
        "    '''Создаем признак \"показатель долговой нагрузки\"'''\n",
        "    df = df.copy()\n",
        "    monthly_payment = Monthly_credit_payment(df) + df['MonthExpense']\n",
        "\n",
        "    return monthly_payment / df['MonthProfit']"
      ]
    },
    {
      "cell_type": "code",
      "execution_count": 48,
      "metadata": {
        "colab": {
          "base_uri": "https://localhost:8080/"
        },
        "id": "ShfB73Q0uT9c",
        "outputId": "6b9cc82f-0331-4c11-b84d-7aa2a28e0c0f"
      },
      "outputs": [
        {
          "name": "stdout",
          "output_type": "stream",
          "text": [
            "Requirement already satisfied: scikit-learn in /home/igor/anaconda3/envs/cuda_p3_9/lib/python3.9/site-packages (1.3.0)\n",
            "Requirement already satisfied: numpy>=1.17.3 in /home/igor/anaconda3/envs/cuda_p3_9/lib/python3.9/site-packages (from scikit-learn) (1.26.0)\n",
            "Requirement already satisfied: scipy>=1.5.0 in /home/igor/anaconda3/envs/cuda_p3_9/lib/python3.9/site-packages (from scikit-learn) (1.11.3)\n",
            "Requirement already satisfied: joblib>=1.1.1 in /home/igor/anaconda3/envs/cuda_p3_9/lib/python3.9/site-packages (from scikit-learn) (1.2.0)\n",
            "Requirement already satisfied: threadpoolctl>=2.0.0 in /home/igor/anaconda3/envs/cuda_p3_9/lib/python3.9/site-packages (from scikit-learn) (2.2.0)\n"
          ]
        }
      ],
      "source": [
        "!pip install scikit-learn"
      ]
    },
    {
      "cell_type": "code",
      "execution_count": 49,
      "metadata": {
        "colab": {
          "base_uri": "https://localhost:8080/"
        },
        "id": "Qc6UnKfF7aU_",
        "outputId": "a4da2529-daa4-4728-ab36-2fc43d4af3b6"
      },
      "outputs": [
        {
          "name": "stdout",
          "output_type": "stream",
          "text": [
            "categorical columns:\t  ['BirthDate', 'education', 'employment status', 'Value', 'JobStartDate', 'Position', 'Family status', 'BankA_decision', 'BankB_decision', 'BankC_decision', 'BankD_decision', 'BankE_decision', 'Goods_category'] \n",
            " len =  13\n",
            "numerical columns:\t  ['MonthProfit', 'MonthExpense', 'Gender', 'ChildCount', 'SNILS', 'Merch_code', 'Loan_amount', 'Loan_term'] \n",
            " len =  8\n"
          ]
        },
        {
          "name": "stdout",
          "output_type": "stream",
          "text": [
            "<class 'pandas.core.frame.DataFrame'>\n",
            "Index: 6603 entries, 1 to 8787\n",
            "Data columns (total 21 columns):\n",
            " #   Column             Non-Null Count  Dtype  \n",
            "---  ------             --------------  -----  \n",
            " 0   BirthDate          6603 non-null   object \n",
            " 1   education          6603 non-null   object \n",
            " 2   employment status  6603 non-null   object \n",
            " 3   Value              6603 non-null   object \n",
            " 4   JobStartDate       6603 non-null   object \n",
            " 5   Position           6603 non-null   object \n",
            " 6   MonthProfit        6603 non-null   float64\n",
            " 7   MonthExpense       6603 non-null   float64\n",
            " 8   Gender             6603 non-null   float64\n",
            " 9   Family status      6603 non-null   object \n",
            " 10  ChildCount         6603 non-null   float64\n",
            " 11  SNILS              6603 non-null   float64\n",
            " 12  BankA_decision     6603 non-null   object \n",
            " 13  BankB_decision     6603 non-null   object \n",
            " 14  BankC_decision     6603 non-null   object \n",
            " 15  BankD_decision     6603 non-null   object \n",
            " 16  BankE_decision     6603 non-null   object \n",
            " 17  Merch_code         6603 non-null   float64\n",
            " 18  Loan_amount        6603 non-null   float64\n",
            " 19  Loan_term          6603 non-null   float64\n",
            " 20  Goods_category     6603 non-null   object \n",
            "dtypes: float64(8), object(13)\n",
            "memory usage: 1.1+ MB\n"
          ]
        }
      ],
      "source": [
        "from sklearn import preprocessing\n",
        "from sklearn.pipeline import Pipeline\n",
        "from sklearn.impute import SimpleImputer\n",
        "\n",
        "def cat_num_split(df: pd.DataFrame) -> tuple:\n",
        "    '''Ищем категориальные и числовые признаки в датафрейме'''\n",
        "\n",
        "    cat_columns = []\n",
        "    num_columns = []\n",
        "\n",
        "    for column_name in df.columns:\n",
        "        if (df[column_name].dtypes == object):\n",
        "            cat_columns += [column_name]\n",
        "        else:\n",
        "            num_columns += [column_name]\n",
        "\n",
        "    print('categorical columns:\\t ',cat_columns, '\\n len = ',len(cat_columns))\n",
        "    print('numerical columns:\\t ',  num_columns, '\\n len = ',len(num_columns))\n",
        "\n",
        "    return cat_columns, num_columns\n",
        "\n",
        "\n",
        "da = pd.read_csv(\n",
        "    filepath_or_buffer='SF_Mandarin_dataset_ver3_1.csv',\n",
        "    sep=';',\n",
        "    index_col='SkillFactory_Id',\n",
        "    #parse_dates=['BirthDate', 'JobStartDate']  <<------ Формат даты/времени заполнятель не прожевывает\n",
        "    )\n",
        "\n",
        "\n",
        "cat_imputer = SimpleImputer(strategy='most_frequent') # Заполнение наиболее частыми значениями для категориальных столбцов\n",
        "num_imputer = SimpleImputer(strategy='median') # Заполнение медианой для числовых столбцов\n",
        "\n",
        "\n",
        "cat_columns, num_columns = cat_num_split(da)\n",
        "\n",
        "\n",
        "da[cat_columns] = cat_imputer.fit_transform(da[cat_columns])\n",
        "da[num_columns] = num_imputer.fit_transform(da[num_columns])\n",
        "\n",
        "da.info()"
      ]
    },
    {
      "cell_type": "markdown",
      "metadata": {
        "id": "QqUK7YR6Efc6"
      },
      "source": [
        "# Самый простой полный алгоритм обучения модели на наших данных"
      ]
    },
    {
      "cell_type": "markdown",
      "metadata": {
        "id": "X9FZqQtyE7yd"
      },
      "source": [
        "## Импорты"
      ]
    },
    {
      "cell_type": "code",
      "execution_count": 50,
      "metadata": {
        "id": "cjJLyMzmEmpZ"
      },
      "outputs": [],
      "source": [
        "from datetime import date\n",
        "\n",
        "import pandas as pd\n",
        "import numpy as np\n",
        "\n",
        "from sklearn.model_selection import train_test_split\n",
        "from sklearn.linear_model import RidgeClassifier\n",
        "\n",
        "from sklearn import preprocessing\n",
        "from sklearn.pipeline import Pipeline\n",
        "from sklearn.impute import SimpleImputer\n",
        "\n",
        "from catboost import CatBoostClassifier\n",
        "from catboost import CatBoostRegressor\n",
        "\n",
        "from catboost import Pool\n",
        "\n",
        "import matplotlib.pyplot as plt"
      ]
    },
    {
      "cell_type": "markdown",
      "metadata": {
        "id": "b3hbHAfWFJes"
      },
      "source": [
        "## Функции\n"
      ]
    },
    {
      "cell_type": "code",
      "execution_count": 51,
      "metadata": {
        "id": "jHaMee-7FBrS"
      },
      "outputs": [],
      "source": [
        "def cat_num_split(df: pd.DataFrame) -> tuple:\n",
        "    '''Ищем категориальные и числовые признаки в датафрейме'''\n",
        "\n",
        "    cat_columns = []\n",
        "    num_columns = []\n",
        "\n",
        "    for column_name in df.columns:\n",
        "        if (df[column_name].dtypes == object):\n",
        "            cat_columns += [column_name]\n",
        "        else:\n",
        "            num_columns += [column_name]\n",
        "\n",
        "    print('categorical columns:\\t ',cat_columns, '\\n len = ',len(cat_columns))\n",
        "    print('numerical columns:\\t ',  num_columns, '\\n len = ',len(num_columns))\n",
        "\n",
        "    return cat_columns, num_columns\n",
        "\n",
        "def Age_feature_creator(\n",
        "    df: pd.DataFrame,\n",
        "    ) -> pd.Series:\n",
        "    '''Создаем признак \"возраст\"'''\n",
        "    df = df.copy()\n",
        "\n",
        "    return date.today().year - df['BirthDate'].dt.year\n",
        "\n",
        "\n",
        "def Num_value_feature_creator(\n",
        "    df: pd.DataFrame,\n",
        "    ) -> pd.Series:\n",
        "    '''Создаем признак \"стаж работы\" из даты начала работы'''\n",
        "    df = df.copy()\n",
        "\n",
        "    return date.today().year - df['JobStartDate'].dt.year\n",
        "\n",
        "\n",
        "def Monthly_credit_payment(\n",
        "    df: pd.DataFrame,\n",
        "    ) -> pd.Series:\n",
        "    '''Создаем функцию расчета ежемесячного платёжа'''\n",
        "    df = df.copy()\n",
        "\n",
        "    return df['Loan_amount'] // df['Loan_term']\n",
        "\n",
        "\n",
        "def Payment_to_income(\n",
        "    df: pd.DataFrame,\n",
        "    ) -> pd.Series:\n",
        "    '''Создаем признак \"показатель долговой нагрузки\"'''\n",
        "    df = df.copy()\n",
        "    monthly_payment = Monthly_credit_payment(df) + df['MonthExpense']\n",
        "\n",
        "    return monthly_payment / df['MonthProfit']\n"
      ]
    },
    {
      "cell_type": "markdown",
      "metadata": {
        "id": "bbJSBE83FVrf"
      },
      "source": [
        "## Загрузка и предобработка\n"
      ]
    },
    {
      "cell_type": "code",
      "execution_count": 52,
      "metadata": {
        "colab": {
          "base_uri": "https://localhost:8080/"
        },
        "id": "caL1IXNdFT_Q",
        "outputId": "7089c541-1e45-4336-861d-5bae3c52d76b"
      },
      "outputs": [
        {
          "name": "stdout",
          "output_type": "stream",
          "text": [
            "Количество nan в фиче <education>: 0 штук.\n",
            "Фича <education> не содержит пропусков.\n"
          ]
        },
        {
          "name": "stdout",
          "output_type": "stream",
          "text": [
            "Легенда по которой выполняется оцифровка уровня образования:\n",
            " {'высшее - специалист': 0.6, 'среднее профессиональное': 0.3, 'среднее': 0.2, 'неоконченное высшее': 0.4, 'бакалавр': 0.5, 'несколько высших': 0.8, 'магистр': 0.7, 'неоконченное среднее': 0.1, 'mba': 0.7, 'ученая степень': 1.0}\n",
            "Количество nan в фиче <education>: 0 штук.\n",
            "Фича <education> не содержит пропусков.\n",
            "Исходное количество nan в фиче <employment status>: 0 штук.\n",
            "Устранено: 0 штук.\n",
            "Фича <employment status> не содержит пропусков.\n",
            "Легенда по которой выполняется оцифровка уровня занятости:\n",
            " {'работаю по найму полный рабочий день/служу': 1.0, 'собственное дело': 1.0, 'не работаю': 0.001, 'работаю по найму неполный рабочий день': 0.5, 'студент': 0.001, 'декретный отпуск': 0.001, 'пенсионер': 0.001}\n",
            "Исходное количество nan в фиче <Value>: 80 штук.\n",
            "Устранено: 0 штук.\n",
            "Легенда по которой выполняется оцифровка трудового стажа:\n",
            " {'10 и более лет': 1.0, '3 - 4 года': 0.35, '2 - 3 года': 0.25, '4 - 5 лет': 0.45, '5 - 6 лет': 0.55, '1 - 2 года': 0.15, '6 - 7 лет': 0.65, '7 - 8 лет': 0.75, '8 - 9 лет': 0.85, '6 месяцев - 1 год': 0.075, '9 - 10 лет': 0.95, '4 - 6 месяцев': 0.042, 'менее 4 месяцев': 0.017}\n"
          ]
        }
      ],
      "source": [
        "# Загружаю датафрейм\n",
        "df = pd.read_csv(\n",
        "    filepath_or_buffer='SF_Mandarin_dataset_ver3_csv.csv',\n",
        "    sep=';'#,\n",
        "#    index_col='SkillFactory_Id',\n",
        "#    parse_dates=['BirthDate', 'JobStartDate']\n",
        "    )\n",
        "df = drop_completely_nan_rows(df) # Пластов\n",
        "# Создаю признаки \"Возраст\" и \"Стаж работы в виде числа\" до заполнения пропусков\n",
        "# Так как столбцы с датами нужно убивать до заполнения пропусков\n",
        "\n",
        "\"\"\" Пластов\n",
        "df['Age'] = Age_feature_creator(df)\n",
        "\n",
        "df['Num_value'] = Num_value_feature_creator(df)\n",
        "\n",
        "# Убиваю столбцы с датами\n",
        "# Пластов df.drop(['BirthDate', 'JobStartDate'], axis='columns', inplace=True)\n",
        "# Создаю простые_заполнятели от SKlearn\n",
        "cat_imputer = SimpleImputer(strategy='most_frequent') # Заполнение наиболее частыми значениями для категориальных столбцов\n",
        "num_imputer = SimpleImputer(strategy='median') # Заполнение медианой для числовых столбцов\n",
        "# Ищу категориальные и числовые столбцы\n",
        "cat_columns, num_columns = cat_num_split(df)\n",
        "# Заполняю пропуски простыми заполнятелями\n",
        "df[cat_columns] = cat_imputer.fit_transform(df[cat_columns])\n",
        "df[num_columns] = num_imputer.fit_transform(df[num_columns])\n",
        "\n",
        "# Добавляю наши новые фичи, которые мы придумали\n",
        "df['Carier_Level'] = CarierLevel_feature_creator_v2(df)\n",
        "df['Payment_to_income'] = Payment_to_income(df)\n",
        "\"\"\"\n",
        "\n",
        "# Добавил Пластов  BEGIN\n",
        "df = make_features(df)\n",
        "# Добавил Пластов  END\n",
        "\n",
        "# Сбрасываю те фичи, которые участвовали в создании новых фич\n",
        "df.drop(['MonthProfit', 'MonthExpense', 'Loan_amount', 'Loan_term'], axis='columns', inplace=True)\n",
        "# Смотрим на датафрейм\n",
        "df.info()\n"
      ]
    },
    {
      "cell_type": "markdown",
      "metadata": {
        "id": "4WH3CiylFejS"
      },
      "source": [
        "## CatBoost\n"
      ]
    },
    {
      "cell_type": "code",
      "execution_count": null,
      "metadata": {
        "colab": {
          "base_uri": "https://localhost:8080/",
          "height": 758
        },
        "id": "i-_SX5YnFcgV",
        "outputId": "e4e57788-2cff-43ea-976e-7df8a0cd5f49"
      },
      "outputs": [
        {
          "name": "stdout",
          "output_type": "stream",
          "text": [
            "categorical columns:\t  ['BirthDate', 'education', 'employment status', 'Value', 'JobStartDate', 'Position', 'Family status', 'Goods_category', 'JobStartDate_feature_cleaner', 'CarierLevel_feature_creator_v2'] \n",
            " len =  10\n",
            "numerical columns:\t  ['SkillFactory_Id', 'Gender', 'ChildCount', 'SNILS', 'Merch_code', 'Value_feature_cleaner', 'education_feature_cleaner', 'employment_status_feature_cleaner', 'CarierLevelDig_feature_creator', 'CarierVelocity_feature_creator'] \n",
            " len =  10\n"
          ]
        },
        {
          "ename": "TypeError",
          "evalue": "must be real number, not datetime.date",
          "output_type": "error",
          "traceback": [
            "\u001b[0;31m---------------------------------------------------------------------------\u001b[0m",
            "\u001b[0;31mTypeError\u001b[0m                                 Traceback (most recent call last)",
            "\u001b[1;32m/home/igor/Plastov/hakaton_november_2023/Copy_of_XAKATOH.ipynb Cell 126\u001b[0m line \u001b[0;36m2\n\u001b[1;32m     <a href='vscode-notebook-cell:/home/igor/Plastov/hakaton_november_2023/Copy_of_XAKATOH.ipynb#Y236sZmlsZQ%3D%3D?line=16'>17</a>\u001b[0m cat_features, _ \u001b[39m=\u001b[39m cat_num_split(X)\n\u001b[1;32m     <a href='vscode-notebook-cell:/home/igor/Plastov/hakaton_november_2023/Copy_of_XAKATOH.ipynb#Y236sZmlsZQ%3D%3D?line=18'>19</a>\u001b[0m \u001b[39m# Готовим Pool для Catboost\u001b[39;00m\n\u001b[0;32m---> <a href='vscode-notebook-cell:/home/igor/Plastov/hakaton_november_2023/Copy_of_XAKATOH.ipynb#Y236sZmlsZQ%3D%3D?line=19'>20</a>\u001b[0m train_data \u001b[39m=\u001b[39m Pool(\n\u001b[1;32m     <a href='vscode-notebook-cell:/home/igor/Plastov/hakaton_november_2023/Copy_of_XAKATOH.ipynb#Y236sZmlsZQ%3D%3D?line=20'>21</a>\u001b[0m     data\u001b[39m=\u001b[39;49mX_train,\n\u001b[1;32m     <a href='vscode-notebook-cell:/home/igor/Plastov/hakaton_november_2023/Copy_of_XAKATOH.ipynb#Y236sZmlsZQ%3D%3D?line=21'>22</a>\u001b[0m     label\u001b[39m=\u001b[39;49my_train,\n\u001b[1;32m     <a href='vscode-notebook-cell:/home/igor/Plastov/hakaton_november_2023/Copy_of_XAKATOH.ipynb#Y236sZmlsZQ%3D%3D?line=22'>23</a>\u001b[0m     cat_features\u001b[39m=\u001b[39;49mcat_features,\n\u001b[1;32m     <a href='vscode-notebook-cell:/home/igor/Plastov/hakaton_november_2023/Copy_of_XAKATOH.ipynb#Y236sZmlsZQ%3D%3D?line=23'>24</a>\u001b[0m     feature_names\u001b[39m=\u001b[39;49mfeatures_names\n\u001b[1;32m     <a href='vscode-notebook-cell:/home/igor/Plastov/hakaton_november_2023/Copy_of_XAKATOH.ipynb#Y236sZmlsZQ%3D%3D?line=24'>25</a>\u001b[0m )\n\u001b[1;32m     <a href='vscode-notebook-cell:/home/igor/Plastov/hakaton_november_2023/Copy_of_XAKATOH.ipynb#Y236sZmlsZQ%3D%3D?line=25'>26</a>\u001b[0m eval_data \u001b[39m=\u001b[39m Pool(\n\u001b[1;32m     <a href='vscode-notebook-cell:/home/igor/Plastov/hakaton_november_2023/Copy_of_XAKATOH.ipynb#Y236sZmlsZQ%3D%3D?line=26'>27</a>\u001b[0m     data\u001b[39m=\u001b[39mX_test,\n\u001b[1;32m     <a href='vscode-notebook-cell:/home/igor/Plastov/hakaton_november_2023/Copy_of_XAKATOH.ipynb#Y236sZmlsZQ%3D%3D?line=27'>28</a>\u001b[0m     label\u001b[39m=\u001b[39my_test,\n\u001b[1;32m     <a href='vscode-notebook-cell:/home/igor/Plastov/hakaton_november_2023/Copy_of_XAKATOH.ipynb#Y236sZmlsZQ%3D%3D?line=28'>29</a>\u001b[0m     cat_features\u001b[39m=\u001b[39mcat_features,\n\u001b[1;32m     <a href='vscode-notebook-cell:/home/igor/Plastov/hakaton_november_2023/Copy_of_XAKATOH.ipynb#Y236sZmlsZQ%3D%3D?line=29'>30</a>\u001b[0m     feature_names\u001b[39m=\u001b[39mfeatures_names\n\u001b[1;32m     <a href='vscode-notebook-cell:/home/igor/Plastov/hakaton_november_2023/Copy_of_XAKATOH.ipynb#Y236sZmlsZQ%3D%3D?line=30'>31</a>\u001b[0m )\n\u001b[1;32m     <a href='vscode-notebook-cell:/home/igor/Plastov/hakaton_november_2023/Copy_of_XAKATOH.ipynb#Y236sZmlsZQ%3D%3D?line=32'>33</a>\u001b[0m model \u001b[39m=\u001b[39m CatBoostClassifier()\n",
            "File \u001b[0;32m~/anaconda3/envs/cuda_p3_9/lib/python3.9/site-packages/catboost/core.py:792\u001b[0m, in \u001b[0;36mPool.__init__\u001b[0;34m(self, data, label, cat_features, text_features, embedding_features, embedding_features_data, column_description, pairs, delimiter, has_header, ignore_csv_quoting, weight, group_id, group_weight, subgroup_id, pairs_weight, baseline, timestamp, feature_names, feature_tags, thread_count, log_cout, log_cerr)\u001b[0m\n\u001b[1;32m    786\u001b[0m         \u001b[39mif\u001b[39;00m \u001b[39misinstance\u001b[39m(feature_names, PATH_TYPES):\n\u001b[1;32m    787\u001b[0m             \u001b[39mraise\u001b[39;00m CatBoostError(\n\u001b[1;32m    788\u001b[0m                 \u001b[39m\"\u001b[39m\u001b[39mfeature_names must be None or have non-string type when the pool is created from \u001b[39m\u001b[39m\"\u001b[39m\n\u001b[1;32m    789\u001b[0m                 \u001b[39m\"\u001b[39m\u001b[39mpython objects.\u001b[39m\u001b[39m\"\u001b[39m\n\u001b[1;32m    790\u001b[0m             )\n\u001b[0;32m--> 792\u001b[0m         \u001b[39mself\u001b[39;49m\u001b[39m.\u001b[39;49m_init(data, label, cat_features, text_features, embedding_features, embedding_features_data, pairs, weight,\n\u001b[1;32m    793\u001b[0m                    group_id, group_weight, subgroup_id, pairs_weight, baseline, timestamp, feature_names, feature_tags, thread_count)\n\u001b[1;32m    794\u001b[0m \u001b[39msuper\u001b[39m(Pool, \u001b[39mself\u001b[39m)\u001b[39m.\u001b[39m\u001b[39m__init__\u001b[39m()\n",
            "File \u001b[0;32m~/anaconda3/envs/cuda_p3_9/lib/python3.9/site-packages/catboost/core.py:1419\u001b[0m, in \u001b[0;36mPool._init\u001b[0;34m(self, data, label, cat_features, text_features, embedding_features, embedding_features_data, pairs, weight, group_id, group_weight, subgroup_id, pairs_weight, baseline, timestamp, feature_names, feature_tags, thread_count)\u001b[0m\n\u001b[1;32m   1417\u001b[0m \u001b[39mif\u001b[39;00m feature_tags \u001b[39mis\u001b[39;00m \u001b[39mnot\u001b[39;00m \u001b[39mNone\u001b[39;00m:\n\u001b[1;32m   1418\u001b[0m     feature_tags \u001b[39m=\u001b[39m \u001b[39mself\u001b[39m\u001b[39m.\u001b[39m_check_transform_tags(feature_tags, feature_names)\n\u001b[0;32m-> 1419\u001b[0m \u001b[39mself\u001b[39;49m\u001b[39m.\u001b[39;49m_init_pool(data, label, cat_features, text_features, embedding_features, embedding_features_data, pairs, weight,\n\u001b[1;32m   1420\u001b[0m                 group_id, group_weight, subgroup_id, pairs_weight, baseline, timestamp, feature_names, feature_tags, thread_count)\n",
            "File \u001b[0;32m_catboost.pyx:3955\u001b[0m, in \u001b[0;36m_catboost._PoolBase._init_pool\u001b[0;34m()\u001b[0m\n",
            "File \u001b[0;32m_catboost.pyx:4005\u001b[0m, in \u001b[0;36m_catboost._PoolBase._init_pool\u001b[0;34m()\u001b[0m\n",
            "File \u001b[0;32m_catboost.pyx:3821\u001b[0m, in \u001b[0;36m_catboost._PoolBase._init_features_order_layout_pool\u001b[0;34m()\u001b[0m\n",
            "File \u001b[0;32m_catboost.pyx:2760\u001b[0m, in \u001b[0;36m_catboost._set_features_order_data_pd_data_frame\u001b[0;34m()\u001b[0m\n",
            "File \u001b[0;32m_catboost.pyx:2351\u001b[0m, in \u001b[0;36m_catboost.get_cat_factor_bytes_representation\u001b[0;34m()\u001b[0m\n",
            "File \u001b[0;32m_catboost.pyx:1878\u001b[0m, in \u001b[0;36m_catboost.get_id_object_bytes_string_representation\u001b[0;34m()\u001b[0m\n",
            "\u001b[0;31mTypeError\u001b[0m: must be real number, not datetime.date"
          ]
        }
      ],
      "source": [
        "# Целевые переменные\n",
        "banks = ['BankA_decision',\n",
        "        'BankB_decision',\n",
        "        'BankC_decision',\n",
        "        'BankD_decision',\n",
        "        'BankE_decision']\n",
        "\n",
        "X = df.drop(banks, axis=1)\n",
        "y = df[banks[0]]\n",
        "\n",
        "features_names = list(X.columns)\n",
        "\n",
        "X_train, X_test, y_train, y_test = train_test_split(X,\n",
        "                                                    y,\n",
        "                                                    test_size=0.33,\n",
        "                                                    random_state=42)\n",
        "cat_features, _ = cat_num_split(X)\n",
        "\n",
        "# Готовим Pool для Catboost\n",
        "train_data = Pool(\n",
        "    data=X_train,\n",
        "    label=y_train,\n",
        "    cat_features=cat_features,\n",
        "    feature_names=features_names\n",
        ")\n",
        "eval_data = Pool(\n",
        "    data=X_test,\n",
        "    label=y_test,\n",
        "    cat_features=cat_features,\n",
        "    feature_names=features_names\n",
        ")\n",
        "\n",
        "model = CatBoostClassifier()\n",
        "\n",
        "\n",
        "model.fit(X=train_data, eval_set=eval_data)\n",
        "\n",
        "\n",
        "ftr_imp = model.feature_importances_/np.sum(model.feature_importances_)\n",
        "sorted = np.argsort(ftr_imp)\n",
        "ypos = np.arange(len(np.array(features_names)))\n",
        "fig = plt.figure(figsize=(8, 8))\n",
        "plt.barh(ypos, ftr_imp[sorted])\n",
        "plt.xlim([0, 1])\n",
        "plt.title('Распределение весов входных параметров')\n",
        "plt.ylabel('Параметры')\n",
        "plt.xlabel('Значимость')\n",
        "plt.yticks(ypos, np.array(features_names)[sorted]);\n",
        "plt.show()"
      ]
    },
    {
      "cell_type": "markdown",
      "metadata": {
        "id": "YKCnWaGSZNGG"
      },
      "source": [
        "# Таблица корреляции (используются все созданные выше функции добавления новых признаков)"
      ]
    },
    {
      "cell_type": "code",
      "execution_count": null,
      "metadata": {
        "id": "xrs80wCdZVYU"
      },
      "outputs": [],
      "source": [
        "# Загружаю датафрейм\n",
        "df = pd.read_csv(\n",
        "    filepath_or_buffer='SF_Mandarin_dataset_ver3_1.csv',\n",
        "    sep=';',\n",
        "    index_col='SkillFactory_Id',\n",
        "    parse_dates=['BirthDate', 'JobStartDate']\n",
        "    )\n",
        "df.dropna(inplace=True) # и сказка пропадет\n",
        "# Создаю признаки \"Возраст\" и \"Стаж работы в виде числа\" до заполнения пропусков\n",
        "# Так как столбцы с датами нужно убивать до заполнения пропусков\n",
        "df['Age'] = Age_feature_creator(df)\n",
        "df['Num_value'] = Num_value_feature_creator(df)\n",
        "df['Day_of_birth'] = df['BirthDate'].dt.dayofyear\n",
        "df['Month_of_birth'] = df['BirthDate'].dt.month\n",
        "df['Carier_Level'] = CarierLevel_feature_creator_v2(df)\n",
        "df['CarierLevelDig_feature_creator'] = CarierLevelDig_feature_creator(df)\n",
        "df['CarierVelocity_feature_creator'] = CarierVelocity_feature_creator(df)\n",
        "\n",
        "# Убиваю столбцы с датами\n",
        "df.drop(['BirthDate', 'JobStartDate'], axis='columns', inplace=True)\n",
        "# Создаю простые_заполнятели от SKlearn\n",
        "cat_imputer = SimpleImputer(strategy='most_frequent') # Заполнение наиболее частыми значениями для категориальных столбцов\n",
        "num_imputer = SimpleImputer(strategy='median') # Заполнение медианой для числовых столбцов\n",
        "# Перекодируем большинство категориальных признаков в числовые через cat.codes\n",
        "df['BankA_decision'] = df['BankA_decision'].astype('category').cat.codes\n",
        "df['BankB_decision'] = df['BankB_decision'].astype('category').cat.codes\n",
        "df['BankC_decision'] = df['BankC_decision'].astype('category').cat.codes\n",
        "df['BankD_decision'] = df['BankD_decision'].astype('category').cat.codes\n",
        "df['BankE_decision'] = df['BankE_decision'].astype('category').cat.codes\n",
        "grade = {'Неоконченное среднее': 0,\n",
        "         'Среднее': 1,\n",
        "         'Среднее профессиональное': 2,\n",
        "         'Неоконченное высшее': 3,\n",
        "         'Бакалавр': 4,\n",
        "         'Высшее - специалист': 5,\n",
        "         'Магистр': 6,\n",
        "         'Несколько высших': 7,\n",
        "         'MBA': 8,\n",
        "         'Ученая степень': 9\n",
        "         }\n",
        "df['education'] = df['education'].astype('category').cat.rename_categories(grade)\n",
        "df['Goods_category'] = df['Goods_category'].astype('category').cat.codes\n",
        "df['Family status'] = df['Family status'].astype('category').cat.codes\n",
        "df['employment status'] = df['employment status'].astype('category').cat.codes\n",
        "#df['Value'] = df['Value'].astype('category').cat.codes\n",
        "\n",
        "cat_columns, num_columns = cat_num_split(df)\n",
        "# Заполняю пропуски простыми заполнятелями\n",
        "df[cat_columns] = cat_imputer.fit_transform(df[cat_columns])\n",
        "df[num_columns] = num_imputer.fit_transform(df[num_columns])\n",
        "#\n",
        "df['Payment_to_income'] = Payment_to_income(df)\n",
        "\n",
        "\n",
        "corr = df[num_columns].corr()\n",
        "corr.style.background_gradient(cmap='coolwarm')"
      ]
    },
    {
      "cell_type": "code",
      "execution_count": null,
      "metadata": {
        "id": "ke5Lt9T7yjQ_"
      },
      "outputs": [],
      "source": []
    }
  ],
  "metadata": {
    "colab": {
      "provenance": []
    },
    "kernelspec": {
      "display_name": "Python 3",
      "language": "python",
      "name": "python3"
    },
    "language_info": {
      "codemirror_mode": {
        "name": "ipython",
        "version": 3
      },
      "file_extension": ".py",
      "mimetype": "text/x-python",
      "name": "python",
      "nbconvert_exporter": "python",
      "pygments_lexer": "ipython3",
      "version": "3.9.18"
    }
  },
  "nbformat": 4,
  "nbformat_minor": 0
}
